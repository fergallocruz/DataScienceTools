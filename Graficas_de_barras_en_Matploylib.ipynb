{
  "nbformat": 4,
  "nbformat_minor": 0,
  "metadata": {
    "colab": {
      "name": "Graficas de barras en Matploylib - 08-oct.ipynb",
      "provenance": [],
      "authorship_tag": "ABX9TyN0zS4H7FYOXs4BuH0KLWj1",
      "include_colab_link": true
    },
    "kernelspec": {
      "name": "python3",
      "display_name": "Python 3"
    },
    "language_info": {
      "name": "python"
    }
  },
  "cells": [
    {
      "cell_type": "markdown",
      "metadata": {
        "id": "view-in-github",
        "colab_type": "text"
      },
      "source": [
        "<a href=\"https://colab.research.google.com/github/fergallocruz/DataScienceTools/blob/main/Graficas_de_barras_en_Matploylib.ipynb\" target=\"_parent\"><img src=\"https://colab.research.google.com/assets/colab-badge.svg\" alt=\"Open In Colab\"/></a>"
      ]
    },
    {
      "cell_type": "code",
      "metadata": {
        "id": "T3f-b3qJMO9A"
      },
      "source": [
        "import numpy as np\n",
        "import matplotlib.pyplot as plt\n",
        "import matplotlib as mpl"
      ],
      "execution_count": 2,
      "outputs": []
    },
    {
      "cell_type": "markdown",
      "metadata": {
        "id": "4wgbQe1VMZIf"
      },
      "source": [
        "## Gráficas de barras"
      ]
    },
    {
      "cell_type": "code",
      "metadata": {
        "colab": {
          "base_uri": "https://localhost:8080/",
          "height": 282
        },
        "id": "3PND3LQ5MfdC",
        "outputId": "ed9bd7fa-2d1e-4e50-c175-ad9384cc5e24"
      },
      "source": [
        "x1 = [1,3, 5, 10, 12]\n",
        "y1 = [1,4, 5, 14, 21]\n",
        "\n",
        "x2 = [1,3, 7, 8, 12]\n",
        "y2 = [1,2, 6, 8, 5]\n",
        "\n",
        "plt.bar(x1, y1, label='x1, y1')\n",
        "plt.bar(x2, y2, label='x2, y2')"
      ],
      "execution_count": 7,
      "outputs": [
        {
          "output_type": "execute_result",
          "data": {
            "text/plain": [
              "<BarContainer object of 5 artists>"
            ]
          },
          "metadata": {},
          "execution_count": 7
        },
        {
          "output_type": "display_data",
          "data": {
            "image/png": "[encoded data removed]",
            "text/plain": [
              "<Figure size 432x288 with 1 Axes>"
            ]
          },
          "metadata": {
            "needs_background": "light"
          }
        }
      ]
    },
    {
      "cell_type": "markdown",
      "metadata": {
        "id": "V6XNahXLNZjD"
      },
      "source": [
        "### Cambiar la opacidad de la gráfica"
      ]
    },
    {
      "cell_type": "code",
      "metadata": {
        "colab": {
          "base_uri": "https://localhost:8080/",
          "height": 264
        },
        "id": "jMTHYsFdNfFy",
        "outputId": "5085ab34-25e4-46a0-be96-1562529f2385"
      },
      "source": [
        "x1 = [1,3, 5, 10, 12]\n",
        "y1 = [1,4, 5, 14, 21]\n",
        "\n",
        "x2 = [1,3, 7, 8, 12]\n",
        "y2 = [1,2, 6, 8, 5]\n",
        "\n",
        "plt.bar(x1, y1, label='Barplot #1', color=(0,0,1, 0.5))\n",
        "plt.bar(x2, y2, label='Barplot #2', color=(0,0.8,1, 0.5))\n",
        "plt.xticks(np.arange(1,13))\n",
        "plt.legend()\n",
        "plt.show()"
      ],
      "execution_count": 20,
      "outputs": [
        {
          "output_type": "display_data",
          "data": {
            "image/png": "[encoded data removed]",
            "text/plain": [
              "<Figure size 432x288 with 1 Axes>"
            ]
          },
          "metadata": {
            "needs_background": "light"
          }
        }
      ]
    },
    {
      "cell_type": "markdown",
      "metadata": {
        "id": "ElAqiMsVQzAN"
      },
      "source": [
        "### Cambiar el valor del label"
      ]
    },
    {
      "cell_type": "code",
      "metadata": {
        "colab": {
          "base_uri": "https://localhost:8080/",
          "height": 264
        },
        "id": "btSjVn3dOfFS",
        "outputId": "bfb42469-3051-4b8f-a8fd-099defc07fab"
      },
      "source": [
        "plt.bar(x1, y1, label='Barplot #1', color=(0,0,1, 0.5))\n",
        "plt.bar(x2, y2, label='Barplot #2', color=(0,0.8,1, 0.5))\n",
        "plt.xticks(np.arange(1,13), labels='ABCDEFGHIJKL')\n",
        "plt.legend()\n",
        "plt.show()"
      ],
      "execution_count": 24,
      "outputs": [
        {
          "output_type": "display_data",
          "data": {
            "image/png": "[encoded data removed]",
            "text/plain": [
              "<Figure size 432x288 with 1 Axes>"
            ]
          },
          "metadata": {
            "needs_background": "light"
          }
        }
      ]
    },
    {
      "cell_type": "markdown",
      "metadata": {
        "id": "PD--rqWxQ7cP"
      },
      "source": [
        "### Modificar ancho de las barras"
      ]
    },
    {
      "cell_type": "code",
      "metadata": {
        "colab": {
          "base_uri": "https://localhost:8080/",
          "height": 264
        },
        "id": "MTCXbBh6PAu-",
        "outputId": "e1091d59-9153-4631-b6e5-8ca5eaa14d77"
      },
      "source": [
        "x1 = [1,3, 5, 10, 12]\n",
        "y1 = [1,4, 5, 14, 21]\n",
        "z1 = [5,4,3,2,1]\n",
        "\n",
        "x2 = [1,3, 7, 8, 12]\n",
        "y2 = [1,2, 6, 8, 5]\n",
        "z2 = [5,6,7,8,9]\n",
        "\n",
        "plt.bar(x1, y1,z1, label='Barplot #1', color=(0,0,1, 0.5))\n",
        "plt.bar(x2, y2,z1, label='Barplot #2', color=(0,0.8,1, 0.5))\n",
        "plt.xticks(np.arange(1,13))\n",
        "plt.legend()\n",
        "plt.show()"
      ],
      "execution_count": 26,
      "outputs": [
        {
          "output_type": "display_data",
          "data": {
            "image/png": "[encoded data removed]",
            "text/plain": [
              "<Figure size 432x288 with 1 Axes>"
            ]
          },
          "metadata": {
            "needs_background": "light"
          }
        }
      ]
    },
    {
      "cell_type": "code",
      "metadata": {
        "colab": {
          "base_uri": "https://localhost:8080/",
          "height": 264
        },
        "id": "0MToV8qaPWWe",
        "outputId": "89b6a581-5f90-40bf-f172-8d4c40a8a01d"
      },
      "source": [
        "from random import random\n",
        "\n",
        "def rColor():\n",
        "  return(random(), random(), random(), 0.5);\n",
        "\n",
        "x1 = np.array([1,2, 3, 4, 5])\n",
        "y1 = np.array([1,4, 5, 14, 21])\n",
        "z1 = np.array([1,1,1,1,1])\n",
        "colors_1 = [rColor() for i in x1]\n",
        "\n",
        "plt.bar(x1, y1,y1/10, label='Barplot #1', color=colors_1)\n",
        "plt.xticks(np.arange(1,6))\n",
        "plt.legend()\n",
        "plt.show()"
      ],
      "execution_count": 37,
      "outputs": [
        {
          "output_type": "display_data",
          "data": {
            "image/png": "[encoded data removed]",
            "text/plain": [
              "<Figure size 432x288 with 1 Axes>"
            ]
          },
          "metadata": {
            "needs_background": "light"
          }
        }
      ]
    },
    {
      "cell_type": "markdown",
      "metadata": {
        "id": "GY3tSWV9Q-w6"
      },
      "source": [
        "\n",
        "### Utilizar escala de colores en una gráfica"
      ]
    },
    {
      "cell_type": "code",
      "metadata": {
        "colab": {
          "base_uri": "https://localhost:8080/",
          "height": 264
        },
        "id": "xnrhqb9zRGeF",
        "outputId": "ea9c997f-45c5-495c-d48b-4d3948869b46"
      },
      "source": [
        "from matplotlib import cm\n",
        "x1 = np.arange(1,20)\n",
        "y1 = np.arange(1,20)\n",
        "\n",
        "cmap = cm.get_cmap('plasma')\n",
        "cmap_viridis = cm.get_cmap('viridis')\n",
        "colores = y1/max(x1)\n",
        "colores = [cmap(c) for c in colores]\n",
        "plt.bar(x1, y1, color=colores)\n",
        "plt.show()"
      ],
      "execution_count": 45,
      "outputs": [
        {
          "output_type": "display_data",
          "data": {
            "image/png": "[encoded data removed]",
            "text/plain": [
              "<Figure size 432x288 with 1 Axes>"
            ]
          },
          "metadata": {
            "needs_background": "light"
          }
        }
      ]
    },
    {
      "cell_type": "markdown",
      "metadata": {
        "id": "7B7c2O3xS4gr"
      },
      "source": [
        "### Apilar las barras"
      ]
    },
    {
      "cell_type": "code",
      "metadata": {
        "colab": {
          "base_uri": "https://localhost:8080/",
          "height": 283
        },
        "id": "EsS39jaPSlta",
        "outputId": "93c57b08-dbb6-48c2-fbfd-0d3389745fca"
      },
      "source": [
        "\n",
        "\n",
        "x = np.arange(1,20)\n",
        "y1 = np.arange(1,20)\n",
        "y2 = np.arange(19,0,-1)\n",
        "y3 = np.random.randint(1,10,19)\n",
        "\n",
        "cmap_viridis = cm.get_cmap('viridis')\n",
        "colores_1 = y1/max(x1)\n",
        "colores_1 = [cmap(c) for c in colores_1]\n",
        "colores_2 = y2/max(x1)\n",
        "colores_2 = [cmap_viridis(c) for c in colores_2]\n",
        "\n",
        "plt.bar(x, y1, color=colores_1)\n",
        "plt.bar(x, y2, color=colores_2, bottom=y1)\n",
        "plt.bar(x, y3, bottom=y1+y2, color= colores_1)"
      ],
      "execution_count": 54,
      "outputs": [
        {
          "output_type": "execute_result",
          "data": {
            "text/plain": [
              "<BarContainer object of 19 artists>"
            ]
          },
          "metadata": {},
          "execution_count": 54
        },
        {
          "output_type": "display_data",
          "data": {
            "image/png": "[encoded data removed]",
            "text/plain": [
              "<Figure size 432x288 with 1 Axes>"
            ]
          },
          "metadata": {
            "needs_background": "light"
          }
        }
      ]
    },
    {
      "cell_type": "code",
      "metadata": {
        "colab": {
          "base_uri": "https://localhost:8080/",
          "height": 283
        },
        "id": "NhR5q0VCT_0x",
        "outputId": "05946bbc-b413-42bf-88ed-b10c9fa027de"
      },
      "source": [
        "plt.barh(x, y1, color=colores_1)\n",
        "plt.barh(x, y2, color=colores_2, left=y1)\n",
        "plt.barh(x, y3, left=y1+y2, color= colores_1)"
      ],
      "execution_count": 55,
      "outputs": [
        {
          "output_type": "execute_result",
          "data": {
            "text/plain": [
              "<BarContainer object of 19 artists>"
            ]
          },
          "metadata": {},
          "execution_count": 55
        },
        {
          "output_type": "display_data",
          "data": {
            "image/png": "[encoded data removed]",
            "text/plain": [
              "<Figure size 432x288 with 1 Axes>"
            ]
          },
          "metadata": {
            "needs_background": "light"
          }
        }
      ]
    }
  ]
}