{
  "nbformat": 4,
  "nbformat_minor": 0,
  "metadata": {
    "colab": {
      "name": "Usage of Pandas DataFrame",
      "provenance": [],
      "include_colab_link": true
    },
    "kernelspec": {
      "name": "python3",
      "display_name": "Python 3"
    },
    "language_info": {
      "name": "python"
    }
  },
  "cells": [
    {
      "cell_type": "markdown",
      "metadata": {
        "id": "view-in-github",
        "colab_type": "text"
      },
      "source": [
        "<a href=\"https://colab.research.google.com/github/fergallocruz/DataScienceTools/blob/main/Usage_of_Pandas_DataFrame.ipynb\" target=\"_parent\"><img src=\"https://colab.research.google.com/assets/colab-badge.svg\" alt=\"Open In Colab\"/></a>"
      ]
    },
    {
      "cell_type": "markdown",
      "metadata": {
        "id": "469CSkoHRohn"
      },
      "source": [
        "# PANDAS- DataFrame"
      ]
    },
    {
      "cell_type": "code",
      "metadata": {
        "id": "Qy8VGJ4LRjb0",
        "colab": {
          "base_uri": "https://localhost:8080/",
          "height": 299
        },
        "outputId": "64d286a1-2a19-47bf-b09b-d5afdd8e40ba"
      },
      "source": [
        "import numpy as np\n",
        "import pandas as pd\n",
        "from pandas import Series\n",
        "from pandas import DataFrame\n",
        "\n",
        "def encabezado(titulo):\n",
        "  print()\n",
        "  print(\"-\" * 50)\n",
        "  print(\"[\" + titulo + \"]\")\n",
        "  print(\"-\" * 50)\n",
        "\n",
        "estados= [\"Jalisco\"]*4 + [\"Colima\"]*4\n",
        "años=[2000, 2005, 2010, 2020]*2\n",
        "poblaciones= [6.32, 6.75, 7.35, 8.34]+ [0.54, 0.57, 0.65, 0.73]\n",
        "\n",
        "data = {\"estado\":estados, \"año\":años, \"población\":poblaciones}\n",
        "frame = DataFrame(data)\n",
        "frame"
      ],
      "execution_count": null,
      "outputs": [
        {
          "output_type": "execute_result",
          "data": {
            "text/html": [
              "<div>\n",
              "<style scoped>\n",
              "    .dataframe tbody tr th:only-of-type {\n",
              "        vertical-align: middle;\n",
              "    }\n",
              "\n",
              "    .dataframe tbody tr th {\n",
              "        vertical-align: top;\n",
              "    }\n",
              "\n",
              "    .dataframe thead th {\n",
              "        text-align: right;\n",
              "    }\n",
              "</style>\n",
              "<table border=\"1\" class=\"dataframe\">\n",
              "  <thead>\n",
              "    <tr style=\"text-align: right;\">\n",
              "      <th></th>\n",
              "      <th>estado</th>\n",
              "      <th>año</th>\n",
              "      <th>población</th>\n",
              "    </tr>\n",
              "  </thead>\n",
              "  <tbody>\n",
              "    <tr>\n",
              "      <th>0</th>\n",
              "      <td>Jalisco</td>\n",
              "      <td>2000</td>\n",
              "      <td>6.32</td>\n",
              "    </tr>\n",
              "    <tr>\n",
              "      <th>1</th>\n",
              "      <td>Jalisco</td>\n",
              "      <td>2005</td>\n",
              "      <td>6.75</td>\n",
              "    </tr>\n",
              "    <tr>\n",
              "      <th>2</th>\n",
              "      <td>Jalisco</td>\n",
              "      <td>2010</td>\n",
              "      <td>7.35</td>\n",
              "    </tr>\n",
              "    <tr>\n",
              "      <th>3</th>\n",
              "      <td>Jalisco</td>\n",
              "      <td>2020</td>\n",
              "      <td>8.34</td>\n",
              "    </tr>\n",
              "    <tr>\n",
              "      <th>4</th>\n",
              "      <td>Colima</td>\n",
              "      <td>2000</td>\n",
              "      <td>0.54</td>\n",
              "    </tr>\n",
              "    <tr>\n",
              "      <th>5</th>\n",
              "      <td>Colima</td>\n",
              "      <td>2005</td>\n",
              "      <td>0.57</td>\n",
              "    </tr>\n",
              "    <tr>\n",
              "      <th>6</th>\n",
              "      <td>Colima</td>\n",
              "      <td>2010</td>\n",
              "      <td>0.65</td>\n",
              "    </tr>\n",
              "    <tr>\n",
              "      <th>7</th>\n",
              "      <td>Colima</td>\n",
              "      <td>2020</td>\n",
              "      <td>0.73</td>\n",
              "    </tr>\n",
              "  </tbody>\n",
              "</table>\n",
              "</div>"
            ],
            "text/plain": [
              "    estado   año  población\n",
              "0  Jalisco  2000       6.32\n",
              "1  Jalisco  2005       6.75\n",
              "2  Jalisco  2010       7.35\n",
              "3  Jalisco  2020       8.34\n",
              "4   Colima  2000       0.54\n",
              "5   Colima  2005       0.57\n",
              "6   Colima  2010       0.65\n",
              "7   Colima  2020       0.73"
            ]
          },
          "metadata": {},
          "execution_count": 5
        }
      ]
    },
    {
      "cell_type": "markdown",
      "metadata": {
        "id": "9VX4uvUmUEr9"
      },
      "source": [
        "Un DataFrame puede sacar información desde diferentes fuentes:\n",
        "- Diccionario de listas del mismo tamaño  \n",
        "- Arreglo bidimensional de datos\n",
        "- Diccionario de Series\n",
        "- DataFrame\n",
        "- Archivos con información tabular"
      ]
    },
    {
      "cell_type": "code",
      "metadata": {
        "colab": {
          "base_uri": "https://localhost:8080/",
          "height": 393
        },
        "id": "ucCHvNxgSdvm",
        "outputId": "dcc145b0-c039-47ae-ba1c-82ce624513b5"
      },
      "source": [
        "## Revisar si se construyó bien el DataFrame una vez\n",
        "## generado\n",
        "\n",
        "# Ver los primeros datos de la tabla // últimos\n",
        "display( frame.head() )\n",
        "\n",
        "display( frame.tail() )"
      ],
      "execution_count": null,
      "outputs": [
        {
          "output_type": "display_data",
          "data": {
            "text/html": [
              "<div>\n",
              "<style scoped>\n",
              "    .dataframe tbody tr th:only-of-type {\n",
              "        vertical-align: middle;\n",
              "    }\n",
              "\n",
              "    .dataframe tbody tr th {\n",
              "        vertical-align: top;\n",
              "    }\n",
              "\n",
              "    .dataframe thead th {\n",
              "        text-align: right;\n",
              "    }\n",
              "</style>\n",
              "<table border=\"1\" class=\"dataframe\">\n",
              "  <thead>\n",
              "    <tr style=\"text-align: right;\">\n",
              "      <th></th>\n",
              "      <th>estado</th>\n",
              "      <th>año</th>\n",
              "      <th>población</th>\n",
              "    </tr>\n",
              "  </thead>\n",
              "  <tbody>\n",
              "    <tr>\n",
              "      <th>0</th>\n",
              "      <td>Jalisco</td>\n",
              "      <td>2000</td>\n",
              "      <td>6.32</td>\n",
              "    </tr>\n",
              "    <tr>\n",
              "      <th>1</th>\n",
              "      <td>Jalisco</td>\n",
              "      <td>2005</td>\n",
              "      <td>6.75</td>\n",
              "    </tr>\n",
              "    <tr>\n",
              "      <th>2</th>\n",
              "      <td>Jalisco</td>\n",
              "      <td>2010</td>\n",
              "      <td>7.35</td>\n",
              "    </tr>\n",
              "    <tr>\n",
              "      <th>3</th>\n",
              "      <td>Jalisco</td>\n",
              "      <td>2020</td>\n",
              "      <td>8.34</td>\n",
              "    </tr>\n",
              "    <tr>\n",
              "      <th>4</th>\n",
              "      <td>Colima</td>\n",
              "      <td>2000</td>\n",
              "      <td>0.54</td>\n",
              "    </tr>\n",
              "  </tbody>\n",
              "</table>\n",
              "</div>"
            ],
            "text/plain": [
              "    estado   año  población\n",
              "0  Jalisco  2000       6.32\n",
              "1  Jalisco  2005       6.75\n",
              "2  Jalisco  2010       7.35\n",
              "3  Jalisco  2020       8.34\n",
              "4   Colima  2000       0.54"
            ]
          },
          "metadata": {}
        },
        {
          "output_type": "display_data",
          "data": {
            "text/html": [
              "<div>\n",
              "<style scoped>\n",
              "    .dataframe tbody tr th:only-of-type {\n",
              "        vertical-align: middle;\n",
              "    }\n",
              "\n",
              "    .dataframe tbody tr th {\n",
              "        vertical-align: top;\n",
              "    }\n",
              "\n",
              "    .dataframe thead th {\n",
              "        text-align: right;\n",
              "    }\n",
              "</style>\n",
              "<table border=\"1\" class=\"dataframe\">\n",
              "  <thead>\n",
              "    <tr style=\"text-align: right;\">\n",
              "      <th></th>\n",
              "      <th>estado</th>\n",
              "      <th>año</th>\n",
              "      <th>población</th>\n",
              "    </tr>\n",
              "  </thead>\n",
              "  <tbody>\n",
              "    <tr>\n",
              "      <th>3</th>\n",
              "      <td>Jalisco</td>\n",
              "      <td>2020</td>\n",
              "      <td>8.34</td>\n",
              "    </tr>\n",
              "    <tr>\n",
              "      <th>4</th>\n",
              "      <td>Colima</td>\n",
              "      <td>2000</td>\n",
              "      <td>0.54</td>\n",
              "    </tr>\n",
              "    <tr>\n",
              "      <th>5</th>\n",
              "      <td>Colima</td>\n",
              "      <td>2005</td>\n",
              "      <td>0.57</td>\n",
              "    </tr>\n",
              "    <tr>\n",
              "      <th>6</th>\n",
              "      <td>Colima</td>\n",
              "      <td>2010</td>\n",
              "      <td>0.65</td>\n",
              "    </tr>\n",
              "    <tr>\n",
              "      <th>7</th>\n",
              "      <td>Colima</td>\n",
              "      <td>2020</td>\n",
              "      <td>0.73</td>\n",
              "    </tr>\n",
              "  </tbody>\n",
              "</table>\n",
              "</div>"
            ],
            "text/plain": [
              "    estado   año  población\n",
              "3  Jalisco  2020       8.34\n",
              "4   Colima  2000       0.54\n",
              "5   Colima  2005       0.57\n",
              "6   Colima  2010       0.65\n",
              "7   Colima  2020       0.73"
            ]
          },
          "metadata": {}
        }
      ]
    },
    {
      "cell_type": "markdown",
      "metadata": {
        "id": "mA-TXqmiVXQH"
      },
      "source": [
        "### Generar DataFrame a partir de otro"
      ]
    },
    {
      "cell_type": "code",
      "metadata": {
        "colab": {
          "base_uri": "https://localhost:8080/",
          "height": 299
        },
        "id": "c0qpOxLtSttP",
        "outputId": "cd658bc4-a0df-4917-cca9-36a1e67ec337"
      },
      "source": [
        "# Cambiar orden de las columnas a año, estado, población\n",
        "df2= DataFrame(frame, columns=[\"año\", \"estado\", \"población\"])\n",
        "df2"
      ],
      "execution_count": null,
      "outputs": [
        {
          "output_type": "execute_result",
          "data": {
            "text/html": [
              "<div>\n",
              "<style scoped>\n",
              "    .dataframe tbody tr th:only-of-type {\n",
              "        vertical-align: middle;\n",
              "    }\n",
              "\n",
              "    .dataframe tbody tr th {\n",
              "        vertical-align: top;\n",
              "    }\n",
              "\n",
              "    .dataframe thead th {\n",
              "        text-align: right;\n",
              "    }\n",
              "</style>\n",
              "<table border=\"1\" class=\"dataframe\">\n",
              "  <thead>\n",
              "    <tr style=\"text-align: right;\">\n",
              "      <th></th>\n",
              "      <th>año</th>\n",
              "      <th>estado</th>\n",
              "      <th>población</th>\n",
              "    </tr>\n",
              "  </thead>\n",
              "  <tbody>\n",
              "    <tr>\n",
              "      <th>0</th>\n",
              "      <td>2000</td>\n",
              "      <td>Jalisco</td>\n",
              "      <td>6.32</td>\n",
              "    </tr>\n",
              "    <tr>\n",
              "      <th>1</th>\n",
              "      <td>2005</td>\n",
              "      <td>Jalisco</td>\n",
              "      <td>6.75</td>\n",
              "    </tr>\n",
              "    <tr>\n",
              "      <th>2</th>\n",
              "      <td>2010</td>\n",
              "      <td>Jalisco</td>\n",
              "      <td>7.35</td>\n",
              "    </tr>\n",
              "    <tr>\n",
              "      <th>3</th>\n",
              "      <td>2020</td>\n",
              "      <td>Jalisco</td>\n",
              "      <td>8.34</td>\n",
              "    </tr>\n",
              "    <tr>\n",
              "      <th>4</th>\n",
              "      <td>2000</td>\n",
              "      <td>Colima</td>\n",
              "      <td>0.54</td>\n",
              "    </tr>\n",
              "    <tr>\n",
              "      <th>5</th>\n",
              "      <td>2005</td>\n",
              "      <td>Colima</td>\n",
              "      <td>0.57</td>\n",
              "    </tr>\n",
              "    <tr>\n",
              "      <th>6</th>\n",
              "      <td>2010</td>\n",
              "      <td>Colima</td>\n",
              "      <td>0.65</td>\n",
              "    </tr>\n",
              "    <tr>\n",
              "      <th>7</th>\n",
              "      <td>2020</td>\n",
              "      <td>Colima</td>\n",
              "      <td>0.73</td>\n",
              "    </tr>\n",
              "  </tbody>\n",
              "</table>\n",
              "</div>"
            ],
            "text/plain": [
              "    año   estado  población\n",
              "0  2000  Jalisco       6.32\n",
              "1  2005  Jalisco       6.75\n",
              "2  2010  Jalisco       7.35\n",
              "3  2020  Jalisco       8.34\n",
              "4  2000   Colima       0.54\n",
              "5  2005   Colima       0.57\n",
              "6  2010   Colima       0.65\n",
              "7  2020   Colima       0.73"
            ]
          },
          "metadata": {},
          "execution_count": 15
        }
      ]
    },
    {
      "cell_type": "code",
      "metadata": {
        "colab": {
          "base_uri": "https://localhost:8080/",
          "height": 299
        },
        "id": "FbS-EF1EVkeF",
        "outputId": "078531e1-ca99-4b82-a742-d7e04ec2caa4"
      },
      "source": [
        "## ¿Qué pasa si agrego una columna que no está en el DataFrame original?\n",
        "## cambio de índices\n",
        "df2= DataFrame(data, columns=[\"año\", \"estado\", \"población\", \"deuda\"],\n",
        "               index=list(\"abcdefgh\"))\n",
        "df2"
      ],
      "execution_count": null,
      "outputs": [
        {
          "output_type": "execute_result",
          "data": {
            "text/html": [
              "<div>\n",
              "<style scoped>\n",
              "    .dataframe tbody tr th:only-of-type {\n",
              "        vertical-align: middle;\n",
              "    }\n",
              "\n",
              "    .dataframe tbody tr th {\n",
              "        vertical-align: top;\n",
              "    }\n",
              "\n",
              "    .dataframe thead th {\n",
              "        text-align: right;\n",
              "    }\n",
              "</style>\n",
              "<table border=\"1\" class=\"dataframe\">\n",
              "  <thead>\n",
              "    <tr style=\"text-align: right;\">\n",
              "      <th></th>\n",
              "      <th>año</th>\n",
              "      <th>estado</th>\n",
              "      <th>población</th>\n",
              "      <th>deuda</th>\n",
              "    </tr>\n",
              "  </thead>\n",
              "  <tbody>\n",
              "    <tr>\n",
              "      <th>a</th>\n",
              "      <td>2000</td>\n",
              "      <td>Jalisco</td>\n",
              "      <td>6.32</td>\n",
              "      <td>NaN</td>\n",
              "    </tr>\n",
              "    <tr>\n",
              "      <th>b</th>\n",
              "      <td>2005</td>\n",
              "      <td>Jalisco</td>\n",
              "      <td>6.75</td>\n",
              "      <td>NaN</td>\n",
              "    </tr>\n",
              "    <tr>\n",
              "      <th>c</th>\n",
              "      <td>2010</td>\n",
              "      <td>Jalisco</td>\n",
              "      <td>7.35</td>\n",
              "      <td>NaN</td>\n",
              "    </tr>\n",
              "    <tr>\n",
              "      <th>d</th>\n",
              "      <td>2020</td>\n",
              "      <td>Jalisco</td>\n",
              "      <td>8.34</td>\n",
              "      <td>NaN</td>\n",
              "    </tr>\n",
              "    <tr>\n",
              "      <th>e</th>\n",
              "      <td>2000</td>\n",
              "      <td>Colima</td>\n",
              "      <td>0.54</td>\n",
              "      <td>NaN</td>\n",
              "    </tr>\n",
              "    <tr>\n",
              "      <th>f</th>\n",
              "      <td>2005</td>\n",
              "      <td>Colima</td>\n",
              "      <td>0.57</td>\n",
              "      <td>NaN</td>\n",
              "    </tr>\n",
              "    <tr>\n",
              "      <th>g</th>\n",
              "      <td>2010</td>\n",
              "      <td>Colima</td>\n",
              "      <td>0.65</td>\n",
              "      <td>NaN</td>\n",
              "    </tr>\n",
              "    <tr>\n",
              "      <th>h</th>\n",
              "      <td>2020</td>\n",
              "      <td>Colima</td>\n",
              "      <td>0.73</td>\n",
              "      <td>NaN</td>\n",
              "    </tr>\n",
              "  </tbody>\n",
              "</table>\n",
              "</div>"
            ],
            "text/plain": [
              "    año   estado  población deuda\n",
              "a  2000  Jalisco       6.32   NaN\n",
              "b  2005  Jalisco       6.75   NaN\n",
              "c  2010  Jalisco       7.35   NaN\n",
              "d  2020  Jalisco       8.34   NaN\n",
              "e  2000   Colima       0.54   NaN\n",
              "f  2005   Colima       0.57   NaN\n",
              "g  2010   Colima       0.65   NaN\n",
              "h  2020   Colima       0.73   NaN"
            ]
          },
          "metadata": {},
          "execution_count": 21
        }
      ]
    },
    {
      "cell_type": "markdown",
      "metadata": {
        "id": "mWFIAAZRXTRP"
      },
      "source": [
        "## Obtención de datos de un DataFrame\n"
      ]
    },
    {
      "cell_type": "code",
      "metadata": {
        "colab": {
          "base_uri": "https://localhost:8080/"
        },
        "id": "frteLAkUWQ5r",
        "outputId": "53dba34f-befe-4bf6-cbc4-7e57e03764e1"
      },
      "source": [
        "## Obtención de una columna como diccionario\n",
        "df2[\"estado\"]\n",
        "# al extraer una columna se conserva el índice"
      ],
      "execution_count": null,
      "outputs": [
        {
          "output_type": "execute_result",
          "data": {
            "text/plain": [
              "a    Jalisco\n",
              "b    Jalisco\n",
              "c    Jalisco\n",
              "d    Jalisco\n",
              "e     Colima\n",
              "f     Colima\n",
              "g     Colima\n",
              "h     Colima\n",
              "Name: estado, dtype: object"
            ]
          },
          "metadata": {},
          "execution_count": 22
        }
      ]
    },
    {
      "cell_type": "code",
      "metadata": {
        "colab": {
          "base_uri": "https://localhost:8080/"
        },
        "id": "ZbmrfXFiXiwR",
        "outputId": "8cbd6ea9-4891-4a13-95df-ef39aa6d46b5"
      },
      "source": [
        "## Obtención una columna como objeto\n",
        "df2.año"
      ],
      "execution_count": null,
      "outputs": [
        {
          "output_type": "execute_result",
          "data": {
            "text/plain": [
              "a    2000\n",
              "b    2005\n",
              "c    2010\n",
              "d    2020\n",
              "e    2000\n",
              "f    2005\n",
              "g    2010\n",
              "h    2020\n",
              "Name: año, dtype: int64"
            ]
          },
          "metadata": {},
          "execution_count": 29
        }
      ]
    },
    {
      "cell_type": "code",
      "metadata": {
        "colab": {
          "base_uri": "https://localhost:8080/"
        },
        "id": "ii6CSd4fX-Sm",
        "outputId": "279af290-495a-4f07-9f9f-ae4b5eb0686b"
      },
      "source": [
        "## Obtención de una fila\n",
        "df2.loc[\"e\"]"
      ],
      "execution_count": null,
      "outputs": [
        {
          "output_type": "execute_result",
          "data": {
            "text/plain": [
              "año            2000\n",
              "estado       Colima\n",
              "población      0.54\n",
              "deuda           NaN\n",
              "Name: e, dtype: object"
            ]
          },
          "metadata": {},
          "execution_count": 37
        }
      ]
    },
    {
      "cell_type": "markdown",
      "metadata": {
        "id": "6ugwSUYvZFDO"
      },
      "source": [
        "## Modificar valores de un DataFrame"
      ]
    },
    {
      "cell_type": "code",
      "metadata": {
        "colab": {
          "base_uri": "https://localhost:8080/",
          "height": 299
        },
        "id": "kovnSOfyYlQJ",
        "outputId": "ee5f435b-52d2-41a3-a3bf-961f7ab554f3"
      },
      "source": [
        "## Asignar un valor a toda la columna\n",
        "df2[\"deuda\"]= 100\n",
        "df2"
      ],
      "execution_count": null,
      "outputs": [
        {
          "output_type": "execute_result",
          "data": {
            "text/html": [
              "<div>\n",
              "<style scoped>\n",
              "    .dataframe tbody tr th:only-of-type {\n",
              "        vertical-align: middle;\n",
              "    }\n",
              "\n",
              "    .dataframe tbody tr th {\n",
              "        vertical-align: top;\n",
              "    }\n",
              "\n",
              "    .dataframe thead th {\n",
              "        text-align: right;\n",
              "    }\n",
              "</style>\n",
              "<table border=\"1\" class=\"dataframe\">\n",
              "  <thead>\n",
              "    <tr style=\"text-align: right;\">\n",
              "      <th></th>\n",
              "      <th>año</th>\n",
              "      <th>estado</th>\n",
              "      <th>población</th>\n",
              "      <th>deuda</th>\n",
              "    </tr>\n",
              "  </thead>\n",
              "  <tbody>\n",
              "    <tr>\n",
              "      <th>a</th>\n",
              "      <td>2000</td>\n",
              "      <td>Jalisco</td>\n",
              "      <td>6.32</td>\n",
              "      <td>100</td>\n",
              "    </tr>\n",
              "    <tr>\n",
              "      <th>b</th>\n",
              "      <td>2005</td>\n",
              "      <td>Jalisco</td>\n",
              "      <td>6.75</td>\n",
              "      <td>100</td>\n",
              "    </tr>\n",
              "    <tr>\n",
              "      <th>c</th>\n",
              "      <td>2010</td>\n",
              "      <td>Jalisco</td>\n",
              "      <td>7.35</td>\n",
              "      <td>100</td>\n",
              "    </tr>\n",
              "    <tr>\n",
              "      <th>d</th>\n",
              "      <td>2020</td>\n",
              "      <td>Jalisco</td>\n",
              "      <td>8.34</td>\n",
              "      <td>100</td>\n",
              "    </tr>\n",
              "    <tr>\n",
              "      <th>e</th>\n",
              "      <td>2000</td>\n",
              "      <td>Colima</td>\n",
              "      <td>0.54</td>\n",
              "      <td>100</td>\n",
              "    </tr>\n",
              "    <tr>\n",
              "      <th>f</th>\n",
              "      <td>2005</td>\n",
              "      <td>Colima</td>\n",
              "      <td>0.57</td>\n",
              "      <td>100</td>\n",
              "    </tr>\n",
              "    <tr>\n",
              "      <th>g</th>\n",
              "      <td>2010</td>\n",
              "      <td>Colima</td>\n",
              "      <td>0.65</td>\n",
              "      <td>100</td>\n",
              "    </tr>\n",
              "    <tr>\n",
              "      <th>h</th>\n",
              "      <td>2020</td>\n",
              "      <td>Colima</td>\n",
              "      <td>0.73</td>\n",
              "      <td>100</td>\n",
              "    </tr>\n",
              "  </tbody>\n",
              "</table>\n",
              "</div>"
            ],
            "text/plain": [
              "    año   estado  población  deuda\n",
              "a  2000  Jalisco       6.32    100\n",
              "b  2005  Jalisco       6.75    100\n",
              "c  2010  Jalisco       7.35    100\n",
              "d  2020  Jalisco       8.34    100\n",
              "e  2000   Colima       0.54    100\n",
              "f  2005   Colima       0.57    100\n",
              "g  2010   Colima       0.65    100\n",
              "h  2020   Colima       0.73    100"
            ]
          },
          "metadata": {},
          "execution_count": 39
        }
      ]
    },
    {
      "cell_type": "code",
      "metadata": {
        "colab": {
          "base_uri": "https://localhost:8080/",
          "height": 299
        },
        "id": "uK5nZOTTZOE9",
        "outputId": "d83dda82-c6cf-46dd-dd6c-f028f1339419"
      },
      "source": [
        "import numpy as np\n",
        "## Asignar una serie de números a una columna\n",
        "deudas= np.arange(0,800, 100)\n",
        "df2[\"deuda\"]= deudas\n",
        "df2"
      ],
      "execution_count": null,
      "outputs": [
        {
          "output_type": "execute_result",
          "data": {
            "text/html": [
              "<div>\n",
              "<style scoped>\n",
              "    .dataframe tbody tr th:only-of-type {\n",
              "        vertical-align: middle;\n",
              "    }\n",
              "\n",
              "    .dataframe tbody tr th {\n",
              "        vertical-align: top;\n",
              "    }\n",
              "\n",
              "    .dataframe thead th {\n",
              "        text-align: right;\n",
              "    }\n",
              "</style>\n",
              "<table border=\"1\" class=\"dataframe\">\n",
              "  <thead>\n",
              "    <tr style=\"text-align: right;\">\n",
              "      <th></th>\n",
              "      <th>año</th>\n",
              "      <th>estado</th>\n",
              "      <th>población</th>\n",
              "      <th>deuda</th>\n",
              "    </tr>\n",
              "  </thead>\n",
              "  <tbody>\n",
              "    <tr>\n",
              "      <th>a</th>\n",
              "      <td>2000</td>\n",
              "      <td>Jalisco</td>\n",
              "      <td>6.32</td>\n",
              "      <td>0</td>\n",
              "    </tr>\n",
              "    <tr>\n",
              "      <th>b</th>\n",
              "      <td>2005</td>\n",
              "      <td>Jalisco</td>\n",
              "      <td>6.75</td>\n",
              "      <td>100</td>\n",
              "    </tr>\n",
              "    <tr>\n",
              "      <th>c</th>\n",
              "      <td>2010</td>\n",
              "      <td>Jalisco</td>\n",
              "      <td>7.35</td>\n",
              "      <td>200</td>\n",
              "    </tr>\n",
              "    <tr>\n",
              "      <th>d</th>\n",
              "      <td>2020</td>\n",
              "      <td>Jalisco</td>\n",
              "      <td>8.34</td>\n",
              "      <td>300</td>\n",
              "    </tr>\n",
              "    <tr>\n",
              "      <th>e</th>\n",
              "      <td>2000</td>\n",
              "      <td>Colima</td>\n",
              "      <td>0.54</td>\n",
              "      <td>400</td>\n",
              "    </tr>\n",
              "    <tr>\n",
              "      <th>f</th>\n",
              "      <td>2005</td>\n",
              "      <td>Colima</td>\n",
              "      <td>0.57</td>\n",
              "      <td>500</td>\n",
              "    </tr>\n",
              "    <tr>\n",
              "      <th>g</th>\n",
              "      <td>2010</td>\n",
              "      <td>Colima</td>\n",
              "      <td>0.65</td>\n",
              "      <td>600</td>\n",
              "    </tr>\n",
              "    <tr>\n",
              "      <th>h</th>\n",
              "      <td>2020</td>\n",
              "      <td>Colima</td>\n",
              "      <td>0.73</td>\n",
              "      <td>700</td>\n",
              "    </tr>\n",
              "  </tbody>\n",
              "</table>\n",
              "</div>"
            ],
            "text/plain": [
              "    año   estado  población  deuda\n",
              "a  2000  Jalisco       6.32      0\n",
              "b  2005  Jalisco       6.75    100\n",
              "c  2010  Jalisco       7.35    200\n",
              "d  2020  Jalisco       8.34    300\n",
              "e  2000   Colima       0.54    400\n",
              "f  2005   Colima       0.57    500\n",
              "g  2010   Colima       0.65    600\n",
              "h  2020   Colima       0.73    700"
            ]
          },
          "metadata": {},
          "execution_count": 40
        }
      ]
    },
    {
      "cell_type": "code",
      "metadata": {
        "colab": {
          "base_uri": "https://localhost:8080/",
          "height": 299
        },
        "id": "fvGxgCRBZtyB",
        "outputId": "b4c74b14-d7a5-4c4b-f2f3-17f8225af967"
      },
      "source": [
        "deudas2= Series([5, 10], index=[\"b\", \"f\"])\n",
        "df2[\"deuda\"]= deudas2\n",
        "df2"
      ],
      "execution_count": null,
      "outputs": [
        {
          "output_type": "execute_result",
          "data": {
            "text/html": [
              "<div>\n",
              "<style scoped>\n",
              "    .dataframe tbody tr th:only-of-type {\n",
              "        vertical-align: middle;\n",
              "    }\n",
              "\n",
              "    .dataframe tbody tr th {\n",
              "        vertical-align: top;\n",
              "    }\n",
              "\n",
              "    .dataframe thead th {\n",
              "        text-align: right;\n",
              "    }\n",
              "</style>\n",
              "<table border=\"1\" class=\"dataframe\">\n",
              "  <thead>\n",
              "    <tr style=\"text-align: right;\">\n",
              "      <th></th>\n",
              "      <th>año</th>\n",
              "      <th>estado</th>\n",
              "      <th>población</th>\n",
              "      <th>deuda</th>\n",
              "    </tr>\n",
              "  </thead>\n",
              "  <tbody>\n",
              "    <tr>\n",
              "      <th>a</th>\n",
              "      <td>2000</td>\n",
              "      <td>Jalisco</td>\n",
              "      <td>6.32</td>\n",
              "      <td>NaN</td>\n",
              "    </tr>\n",
              "    <tr>\n",
              "      <th>b</th>\n",
              "      <td>2005</td>\n",
              "      <td>Jalisco</td>\n",
              "      <td>6.75</td>\n",
              "      <td>5.0</td>\n",
              "    </tr>\n",
              "    <tr>\n",
              "      <th>c</th>\n",
              "      <td>2010</td>\n",
              "      <td>Jalisco</td>\n",
              "      <td>7.35</td>\n",
              "      <td>NaN</td>\n",
              "    </tr>\n",
              "    <tr>\n",
              "      <th>d</th>\n",
              "      <td>2020</td>\n",
              "      <td>Jalisco</td>\n",
              "      <td>8.34</td>\n",
              "      <td>NaN</td>\n",
              "    </tr>\n",
              "    <tr>\n",
              "      <th>e</th>\n",
              "      <td>2000</td>\n",
              "      <td>Colima</td>\n",
              "      <td>0.54</td>\n",
              "      <td>NaN</td>\n",
              "    </tr>\n",
              "    <tr>\n",
              "      <th>f</th>\n",
              "      <td>2005</td>\n",
              "      <td>Colima</td>\n",
              "      <td>0.57</td>\n",
              "      <td>10.0</td>\n",
              "    </tr>\n",
              "    <tr>\n",
              "      <th>g</th>\n",
              "      <td>2010</td>\n",
              "      <td>Colima</td>\n",
              "      <td>0.65</td>\n",
              "      <td>NaN</td>\n",
              "    </tr>\n",
              "    <tr>\n",
              "      <th>h</th>\n",
              "      <td>2020</td>\n",
              "      <td>Colima</td>\n",
              "      <td>0.73</td>\n",
              "      <td>NaN</td>\n",
              "    </tr>\n",
              "  </tbody>\n",
              "</table>\n",
              "</div>"
            ],
            "text/plain": [
              "    año   estado  población  deuda\n",
              "a  2000  Jalisco       6.32    NaN\n",
              "b  2005  Jalisco       6.75    5.0\n",
              "c  2010  Jalisco       7.35    NaN\n",
              "d  2020  Jalisco       8.34    NaN\n",
              "e  2000   Colima       0.54    NaN\n",
              "f  2005   Colima       0.57   10.0\n",
              "g  2010   Colima       0.65    NaN\n",
              "h  2020   Colima       0.73    NaN"
            ]
          },
          "metadata": {},
          "execution_count": 43
        }
      ]
    },
    {
      "cell_type": "code",
      "metadata": {
        "colab": {
          "base_uri": "https://localhost:8080/",
          "height": 299
        },
        "id": "6uCMSWSlaEfA",
        "outputId": "3826c3fc-049a-4ffa-d398-f109e2db40cc"
      },
      "source": [
        "## Generar una columna calculada\n",
        "df2[\"local\"]= df2[\"estado\"]== \"Jalisco\"\n",
        "df2"
      ],
      "execution_count": null,
      "outputs": [
        {
          "output_type": "execute_result",
          "data": {
            "text/html": [
              "<div>\n",
              "<style scoped>\n",
              "    .dataframe tbody tr th:only-of-type {\n",
              "        vertical-align: middle;\n",
              "    }\n",
              "\n",
              "    .dataframe tbody tr th {\n",
              "        vertical-align: top;\n",
              "    }\n",
              "\n",
              "    .dataframe thead th {\n",
              "        text-align: right;\n",
              "    }\n",
              "</style>\n",
              "<table border=\"1\" class=\"dataframe\">\n",
              "  <thead>\n",
              "    <tr style=\"text-align: right;\">\n",
              "      <th></th>\n",
              "      <th>año</th>\n",
              "      <th>estado</th>\n",
              "      <th>población</th>\n",
              "      <th>deuda</th>\n",
              "      <th>local</th>\n",
              "    </tr>\n",
              "  </thead>\n",
              "  <tbody>\n",
              "    <tr>\n",
              "      <th>a</th>\n",
              "      <td>2000</td>\n",
              "      <td>Jalisco</td>\n",
              "      <td>6.32</td>\n",
              "      <td>NaN</td>\n",
              "      <td>True</td>\n",
              "    </tr>\n",
              "    <tr>\n",
              "      <th>b</th>\n",
              "      <td>2005</td>\n",
              "      <td>Jalisco</td>\n",
              "      <td>6.75</td>\n",
              "      <td>5.0</td>\n",
              "      <td>True</td>\n",
              "    </tr>\n",
              "    <tr>\n",
              "      <th>c</th>\n",
              "      <td>2010</td>\n",
              "      <td>Jalisco</td>\n",
              "      <td>7.35</td>\n",
              "      <td>NaN</td>\n",
              "      <td>True</td>\n",
              "    </tr>\n",
              "    <tr>\n",
              "      <th>d</th>\n",
              "      <td>2020</td>\n",
              "      <td>Jalisco</td>\n",
              "      <td>8.34</td>\n",
              "      <td>NaN</td>\n",
              "      <td>True</td>\n",
              "    </tr>\n",
              "    <tr>\n",
              "      <th>e</th>\n",
              "      <td>2000</td>\n",
              "      <td>Colima</td>\n",
              "      <td>0.54</td>\n",
              "      <td>NaN</td>\n",
              "      <td>False</td>\n",
              "    </tr>\n",
              "    <tr>\n",
              "      <th>f</th>\n",
              "      <td>2005</td>\n",
              "      <td>Colima</td>\n",
              "      <td>0.57</td>\n",
              "      <td>10.0</td>\n",
              "      <td>False</td>\n",
              "    </tr>\n",
              "    <tr>\n",
              "      <th>g</th>\n",
              "      <td>2010</td>\n",
              "      <td>Colima</td>\n",
              "      <td>0.65</td>\n",
              "      <td>NaN</td>\n",
              "      <td>False</td>\n",
              "    </tr>\n",
              "    <tr>\n",
              "      <th>h</th>\n",
              "      <td>2020</td>\n",
              "      <td>Colima</td>\n",
              "      <td>0.73</td>\n",
              "      <td>NaN</td>\n",
              "      <td>False</td>\n",
              "    </tr>\n",
              "  </tbody>\n",
              "</table>\n",
              "</div>"
            ],
            "text/plain": [
              "    año   estado  población  deuda  local\n",
              "a  2000  Jalisco       6.32    NaN   True\n",
              "b  2005  Jalisco       6.75    5.0   True\n",
              "c  2010  Jalisco       7.35    NaN   True\n",
              "d  2020  Jalisco       8.34    NaN   True\n",
              "e  2000   Colima       0.54    NaN  False\n",
              "f  2005   Colima       0.57   10.0  False\n",
              "g  2010   Colima       0.65    NaN  False\n",
              "h  2020   Colima       0.73    NaN  False"
            ]
          },
          "metadata": {},
          "execution_count": 45
        }
      ]
    },
    {
      "cell_type": "code",
      "metadata": {
        "colab": {
          "base_uri": "https://localhost:8080/",
          "height": 299
        },
        "id": "t16T3YRcaono",
        "outputId": "6a2f54ae-9ed5-4c97-a654-1216b0896e29"
      },
      "source": [
        "## Remover columna que ya no es útil\n",
        "del df2[\"local\"]\n",
        "df2"
      ],
      "execution_count": null,
      "outputs": [
        {
          "output_type": "execute_result",
          "data": {
            "text/html": [
              "<div>\n",
              "<style scoped>\n",
              "    .dataframe tbody tr th:only-of-type {\n",
              "        vertical-align: middle;\n",
              "    }\n",
              "\n",
              "    .dataframe tbody tr th {\n",
              "        vertical-align: top;\n",
              "    }\n",
              "\n",
              "    .dataframe thead th {\n",
              "        text-align: right;\n",
              "    }\n",
              "</style>\n",
              "<table border=\"1\" class=\"dataframe\">\n",
              "  <thead>\n",
              "    <tr style=\"text-align: right;\">\n",
              "      <th></th>\n",
              "      <th>año</th>\n",
              "      <th>estado</th>\n",
              "      <th>población</th>\n",
              "      <th>deuda</th>\n",
              "    </tr>\n",
              "  </thead>\n",
              "  <tbody>\n",
              "    <tr>\n",
              "      <th>a</th>\n",
              "      <td>2000</td>\n",
              "      <td>Jalisco</td>\n",
              "      <td>6.32</td>\n",
              "      <td>NaN</td>\n",
              "    </tr>\n",
              "    <tr>\n",
              "      <th>b</th>\n",
              "      <td>2005</td>\n",
              "      <td>Jalisco</td>\n",
              "      <td>6.75</td>\n",
              "      <td>5.0</td>\n",
              "    </tr>\n",
              "    <tr>\n",
              "      <th>c</th>\n",
              "      <td>2010</td>\n",
              "      <td>Jalisco</td>\n",
              "      <td>7.35</td>\n",
              "      <td>NaN</td>\n",
              "    </tr>\n",
              "    <tr>\n",
              "      <th>d</th>\n",
              "      <td>2020</td>\n",
              "      <td>Jalisco</td>\n",
              "      <td>8.34</td>\n",
              "      <td>NaN</td>\n",
              "    </tr>\n",
              "    <tr>\n",
              "      <th>e</th>\n",
              "      <td>2000</td>\n",
              "      <td>Colima</td>\n",
              "      <td>0.54</td>\n",
              "      <td>NaN</td>\n",
              "    </tr>\n",
              "    <tr>\n",
              "      <th>f</th>\n",
              "      <td>2005</td>\n",
              "      <td>Colima</td>\n",
              "      <td>0.57</td>\n",
              "      <td>10.0</td>\n",
              "    </tr>\n",
              "    <tr>\n",
              "      <th>g</th>\n",
              "      <td>2010</td>\n",
              "      <td>Colima</td>\n",
              "      <td>0.65</td>\n",
              "      <td>NaN</td>\n",
              "    </tr>\n",
              "    <tr>\n",
              "      <th>h</th>\n",
              "      <td>2020</td>\n",
              "      <td>Colima</td>\n",
              "      <td>0.73</td>\n",
              "      <td>NaN</td>\n",
              "    </tr>\n",
              "  </tbody>\n",
              "</table>\n",
              "</div>"
            ],
            "text/plain": [
              "    año   estado  población  deuda\n",
              "a  2000  Jalisco       6.32    NaN\n",
              "b  2005  Jalisco       6.75    5.0\n",
              "c  2010  Jalisco       7.35    NaN\n",
              "d  2020  Jalisco       8.34    NaN\n",
              "e  2000   Colima       0.54    NaN\n",
              "f  2005   Colima       0.57   10.0\n",
              "g  2010   Colima       0.65    NaN\n",
              "h  2020   Colima       0.73    NaN"
            ]
          },
          "metadata": {},
          "execution_count": 46
        }
      ]
    },
    {
      "cell_type": "code",
      "metadata": {
        "colab": {
          "base_uri": "https://localhost:8080/",
          "height": 111
        },
        "id": "5OriaCa7bPST",
        "outputId": "012f2920-8260-44c6-807b-969d5efd97b7"
      },
      "source": [
        "## Generar un DataFrame a partir de un diccionario de diccionarios\n",
        "pob= {\"Jalisco\": {2000: 6.32, 2020: 8.35},\n",
        "      \"Colima\": {2000: 0.54, 2020: 0.73 }}\n",
        "df3= DataFrame(pob)\n",
        "df3"
      ],
      "execution_count": null,
      "outputs": [
        {
          "output_type": "execute_result",
          "data": {
            "text/html": [
              "<div>\n",
              "<style scoped>\n",
              "    .dataframe tbody tr th:only-of-type {\n",
              "        vertical-align: middle;\n",
              "    }\n",
              "\n",
              "    .dataframe tbody tr th {\n",
              "        vertical-align: top;\n",
              "    }\n",
              "\n",
              "    .dataframe thead th {\n",
              "        text-align: right;\n",
              "    }\n",
              "</style>\n",
              "<table border=\"1\" class=\"dataframe\">\n",
              "  <thead>\n",
              "    <tr style=\"text-align: right;\">\n",
              "      <th></th>\n",
              "      <th>Jalisco</th>\n",
              "      <th>Colima</th>\n",
              "    </tr>\n",
              "  </thead>\n",
              "  <tbody>\n",
              "    <tr>\n",
              "      <th>2000</th>\n",
              "      <td>6.32</td>\n",
              "      <td>0.54</td>\n",
              "    </tr>\n",
              "    <tr>\n",
              "      <th>2020</th>\n",
              "      <td>8.35</td>\n",
              "      <td>0.73</td>\n",
              "    </tr>\n",
              "  </tbody>\n",
              "</table>\n",
              "</div>"
            ],
            "text/plain": [
              "      Jalisco  Colima\n",
              "2000     6.32    0.54\n",
              "2020     8.35    0.73"
            ]
          },
          "metadata": {},
          "execution_count": 53
        }
      ]
    },
    {
      "cell_type": "code",
      "metadata": {
        "colab": {
          "base_uri": "https://localhost:8080/",
          "height": 111
        },
        "id": "za6nSG-hccdm",
        "outputId": "fa6debdc-1f78-4693-fff8-a7c3361b4402"
      },
      "source": [
        "## Intercambiar filas por columnas\n",
        "df3.T #transponer el DataFrame"
      ],
      "execution_count": null,
      "outputs": [
        {
          "output_type": "execute_result",
          "data": {
            "text/html": [
              "<div>\n",
              "<style scoped>\n",
              "    .dataframe tbody tr th:only-of-type {\n",
              "        vertical-align: middle;\n",
              "    }\n",
              "\n",
              "    .dataframe tbody tr th {\n",
              "        vertical-align: top;\n",
              "    }\n",
              "\n",
              "    .dataframe thead th {\n",
              "        text-align: right;\n",
              "    }\n",
              "</style>\n",
              "<table border=\"1\" class=\"dataframe\">\n",
              "  <thead>\n",
              "    <tr style=\"text-align: right;\">\n",
              "      <th></th>\n",
              "      <th>2000</th>\n",
              "      <th>2020</th>\n",
              "    </tr>\n",
              "  </thead>\n",
              "  <tbody>\n",
              "    <tr>\n",
              "      <th>Jalisco</th>\n",
              "      <td>6.32</td>\n",
              "      <td>8.35</td>\n",
              "    </tr>\n",
              "    <tr>\n",
              "      <th>Colima</th>\n",
              "      <td>0.54</td>\n",
              "      <td>0.73</td>\n",
              "    </tr>\n",
              "  </tbody>\n",
              "</table>\n",
              "</div>"
            ],
            "text/plain": [
              "         2000  2020\n",
              "Jalisco  6.32  8.35\n",
              "Colima   0.54  0.73"
            ]
          },
          "metadata": {},
          "execution_count": 55
        }
      ]
    },
    {
      "cell_type": "code",
      "metadata": {
        "colab": {
          "base_uri": "https://localhost:8080/",
          "height": 174
        },
        "id": "rFrCJ4fFdBxR",
        "outputId": "2b37a0a0-0d0a-49c1-e671-be9b27555d16"
      },
      "source": [
        "## Generar un dataframe a partir de un arreglo bidimensional\n",
        "\n",
        "numeros= np.arange(16).reshape(4,4)\n",
        "df4= DataFrame(numeros, index= list(\"abcd\"), columns=[\"México\", \"USA\", \"Belice\", \"Guatemala\"])\n",
        "df4"
      ],
      "execution_count": null,
      "outputs": [
        {
          "output_type": "execute_result",
          "data": {
            "text/html": [
              "<div>\n",
              "<style scoped>\n",
              "    .dataframe tbody tr th:only-of-type {\n",
              "        vertical-align: middle;\n",
              "    }\n",
              "\n",
              "    .dataframe tbody tr th {\n",
              "        vertical-align: top;\n",
              "    }\n",
              "\n",
              "    .dataframe thead th {\n",
              "        text-align: right;\n",
              "    }\n",
              "</style>\n",
              "<table border=\"1\" class=\"dataframe\">\n",
              "  <thead>\n",
              "    <tr style=\"text-align: right;\">\n",
              "      <th></th>\n",
              "      <th>México</th>\n",
              "      <th>USA</th>\n",
              "      <th>Belice</th>\n",
              "      <th>Guatemala</th>\n",
              "    </tr>\n",
              "  </thead>\n",
              "  <tbody>\n",
              "    <tr>\n",
              "      <th>a</th>\n",
              "      <td>0</td>\n",
              "      <td>1</td>\n",
              "      <td>2</td>\n",
              "      <td>3</td>\n",
              "    </tr>\n",
              "    <tr>\n",
              "      <th>b</th>\n",
              "      <td>4</td>\n",
              "      <td>5</td>\n",
              "      <td>6</td>\n",
              "      <td>7</td>\n",
              "    </tr>\n",
              "    <tr>\n",
              "      <th>c</th>\n",
              "      <td>8</td>\n",
              "      <td>9</td>\n",
              "      <td>10</td>\n",
              "      <td>11</td>\n",
              "    </tr>\n",
              "    <tr>\n",
              "      <th>d</th>\n",
              "      <td>12</td>\n",
              "      <td>13</td>\n",
              "      <td>14</td>\n",
              "      <td>15</td>\n",
              "    </tr>\n",
              "  </tbody>\n",
              "</table>\n",
              "</div>"
            ],
            "text/plain": [
              "   México  USA  Belice  Guatemala\n",
              "a       0    1       2          3\n",
              "b       4    5       6          7\n",
              "c       8    9      10         11\n",
              "d      12   13      14         15"
            ]
          },
          "metadata": {},
          "execution_count": 63
        }
      ]
    },
    {
      "cell_type": "markdown",
      "metadata": {
        "id": "v7UhllBbeL5o"
      },
      "source": [
        "# ILOC y LOC\n",
        "Remueve la ambigüedad de los índices al separar la funcionalidad de los índices numéricos de los personalizados"
      ]
    },
    {
      "cell_type": "code",
      "metadata": {
        "colab": {
          "base_uri": "https://localhost:8080/"
        },
        "id": "Ay_uLABndILJ",
        "outputId": "e2eec842-8150-401d-e523-3cf32862f9c4"
      },
      "source": [
        "#obtiene una fila utilizando loc\n",
        "df4.loc[\"b\"] "
      ],
      "execution_count": null,
      "outputs": [
        {
          "output_type": "execute_result",
          "data": {
            "text/plain": [
              "México       4\n",
              "USA          5\n",
              "Belice       6\n",
              "Guatemala    7\n",
              "Name: b, dtype: int64"
            ]
          },
          "metadata": {},
          "execution_count": 64
        }
      ]
    },
    {
      "cell_type": "code",
      "metadata": {
        "colab": {
          "base_uri": "https://localhost:8080/",
          "height": 413
        },
        "id": "1R0wplAYempe",
        "outputId": "28b18636-a5c0-4ad9-bcee-1554437c3804"
      },
      "source": [
        "\n",
        "encabezado(\"Valor específico\")\n",
        "display( df4.loc[\"b\", \"USA\" ] )# obtener un valor específico en la tabla [fila, columna]\n",
        "encabezado(\"Columna Belice\")\n",
        "display( df4.loc[ : , \"Belice\" ] ) #obtener toda la columna Belice\n",
        "encabezado(\"Fila A\")\n",
        "df4.loc[\"a\", : ]"
      ],
      "execution_count": null,
      "outputs": [
        {
          "output_type": "stream",
          "name": "stdout",
          "text": [
            "\n",
            "--------------------------------------------------\n",
            "[Valor específico]\n",
            "--------------------------------------------------\n"
          ]
        },
        {
          "output_type": "display_data",
          "data": {
            "text/plain": [
              "5"
            ]
          },
          "metadata": {}
        },
        {
          "output_type": "stream",
          "name": "stdout",
          "text": [
            "\n",
            "--------------------------------------------------\n",
            "[Columna Belice]\n",
            "--------------------------------------------------\n"
          ]
        },
        {
          "output_type": "display_data",
          "data": {
            "text/plain": [
              "a     2\n",
              "b     6\n",
              "c    10\n",
              "d    14\n",
              "Name: Belice, dtype: int64"
            ]
          },
          "metadata": {}
        },
        {
          "output_type": "stream",
          "name": "stdout",
          "text": [
            "\n",
            "--------------------------------------------------\n",
            "[Fila A]\n",
            "--------------------------------------------------\n"
          ]
        },
        {
          "output_type": "execute_result",
          "data": {
            "text/plain": [
              "México       0\n",
              "USA          1\n",
              "Belice       2\n",
              "Guatemala    3\n",
              "Name: a, dtype: int64"
            ]
          },
          "metadata": {},
          "execution_count": 69
        }
      ]
    },
    {
      "cell_type": "code",
      "metadata": {
        "colab": {
          "base_uri": "https://localhost:8080/",
          "height": 406
        },
        "id": "mq1pGlFVe-u5",
        "outputId": "d53779dd-0ecc-4bae-9706-96c7677c0577"
      },
      "source": [
        "encabezado(\"Slice\")\n",
        "display( df4.loc[ \"b\":\"d\", \"México\":\"Belice\"] ) #incluye el último elemento\n",
        "encabezado(\"Filtrado\")\n",
        "df4.loc[ [\"b\",\"a\", \"d\"] , [\"Guatemala\", \"Belice\"] ]"
      ],
      "execution_count": null,
      "outputs": [
        {
          "output_type": "stream",
          "name": "stdout",
          "text": [
            "\n",
            "--------------------------------------------------\n",
            "[Slice]\n",
            "--------------------------------------------------\n"
          ]
        },
        {
          "output_type": "display_data",
          "data": {
            "text/html": [
              "<div>\n",
              "<style scoped>\n",
              "    .dataframe tbody tr th:only-of-type {\n",
              "        vertical-align: middle;\n",
              "    }\n",
              "\n",
              "    .dataframe tbody tr th {\n",
              "        vertical-align: top;\n",
              "    }\n",
              "\n",
              "    .dataframe thead th {\n",
              "        text-align: right;\n",
              "    }\n",
              "</style>\n",
              "<table border=\"1\" class=\"dataframe\">\n",
              "  <thead>\n",
              "    <tr style=\"text-align: right;\">\n",
              "      <th></th>\n",
              "      <th>México</th>\n",
              "      <th>USA</th>\n",
              "      <th>Belice</th>\n",
              "    </tr>\n",
              "  </thead>\n",
              "  <tbody>\n",
              "    <tr>\n",
              "      <th>b</th>\n",
              "      <td>4</td>\n",
              "      <td>5</td>\n",
              "      <td>6</td>\n",
              "    </tr>\n",
              "    <tr>\n",
              "      <th>c</th>\n",
              "      <td>8</td>\n",
              "      <td>9</td>\n",
              "      <td>10</td>\n",
              "    </tr>\n",
              "    <tr>\n",
              "      <th>d</th>\n",
              "      <td>12</td>\n",
              "      <td>13</td>\n",
              "      <td>14</td>\n",
              "    </tr>\n",
              "  </tbody>\n",
              "</table>\n",
              "</div>"
            ],
            "text/plain": [
              "   México  USA  Belice\n",
              "b       4    5       6\n",
              "c       8    9      10\n",
              "d      12   13      14"
            ]
          },
          "metadata": {}
        },
        {
          "output_type": "stream",
          "name": "stdout",
          "text": [
            "\n",
            "--------------------------------------------------\n",
            "[Filtrado]\n",
            "--------------------------------------------------\n"
          ]
        },
        {
          "output_type": "execute_result",
          "data": {
            "text/html": [
              "<div>\n",
              "<style scoped>\n",
              "    .dataframe tbody tr th:only-of-type {\n",
              "        vertical-align: middle;\n",
              "    }\n",
              "\n",
              "    .dataframe tbody tr th {\n",
              "        vertical-align: top;\n",
              "    }\n",
              "\n",
              "    .dataframe thead th {\n",
              "        text-align: right;\n",
              "    }\n",
              "</style>\n",
              "<table border=\"1\" class=\"dataframe\">\n",
              "  <thead>\n",
              "    <tr style=\"text-align: right;\">\n",
              "      <th></th>\n",
              "      <th>Guatemala</th>\n",
              "      <th>Belice</th>\n",
              "    </tr>\n",
              "  </thead>\n",
              "  <tbody>\n",
              "    <tr>\n",
              "      <th>b</th>\n",
              "      <td>7</td>\n",
              "      <td>6</td>\n",
              "    </tr>\n",
              "    <tr>\n",
              "      <th>a</th>\n",
              "      <td>3</td>\n",
              "      <td>2</td>\n",
              "    </tr>\n",
              "    <tr>\n",
              "      <th>d</th>\n",
              "      <td>15</td>\n",
              "      <td>14</td>\n",
              "    </tr>\n",
              "  </tbody>\n",
              "</table>\n",
              "</div>"
            ],
            "text/plain": [
              "   Guatemala  Belice\n",
              "b          7       6\n",
              "a          3       2\n",
              "d         15      14"
            ]
          },
          "metadata": {},
          "execution_count": 75
        }
      ]
    },
    {
      "cell_type": "markdown",
      "metadata": {
        "id": "GyhPwY1Ig7lD"
      },
      "source": [
        "### iloc\n",
        "Índices por posición numérica"
      ]
    },
    {
      "cell_type": "code",
      "metadata": {
        "colab": {
          "base_uri": "https://localhost:8080/",
          "height": 174
        },
        "id": "e5ES5SrTfx_q",
        "outputId": "04cae020-a0c7-4835-f714-163879f530ce"
      },
      "source": [
        "df4"
      ],
      "execution_count": null,
      "outputs": [
        {
          "output_type": "execute_result",
          "data": {
            "text/html": [
              "<div>\n",
              "<style scoped>\n",
              "    .dataframe tbody tr th:only-of-type {\n",
              "        vertical-align: middle;\n",
              "    }\n",
              "\n",
              "    .dataframe tbody tr th {\n",
              "        vertical-align: top;\n",
              "    }\n",
              "\n",
              "    .dataframe thead th {\n",
              "        text-align: right;\n",
              "    }\n",
              "</style>\n",
              "<table border=\"1\" class=\"dataframe\">\n",
              "  <thead>\n",
              "    <tr style=\"text-align: right;\">\n",
              "      <th></th>\n",
              "      <th>México</th>\n",
              "      <th>USA</th>\n",
              "      <th>Belice</th>\n",
              "      <th>Guatemala</th>\n",
              "    </tr>\n",
              "  </thead>\n",
              "  <tbody>\n",
              "    <tr>\n",
              "      <th>a</th>\n",
              "      <td>0</td>\n",
              "      <td>1</td>\n",
              "      <td>2</td>\n",
              "      <td>3</td>\n",
              "    </tr>\n",
              "    <tr>\n",
              "      <th>b</th>\n",
              "      <td>4</td>\n",
              "      <td>5</td>\n",
              "      <td>6</td>\n",
              "      <td>7</td>\n",
              "    </tr>\n",
              "    <tr>\n",
              "      <th>c</th>\n",
              "      <td>8</td>\n",
              "      <td>9</td>\n",
              "      <td>10</td>\n",
              "      <td>11</td>\n",
              "    </tr>\n",
              "    <tr>\n",
              "      <th>d</th>\n",
              "      <td>12</td>\n",
              "      <td>13</td>\n",
              "      <td>14</td>\n",
              "      <td>15</td>\n",
              "    </tr>\n",
              "  </tbody>\n",
              "</table>\n",
              "</div>"
            ],
            "text/plain": [
              "   México  USA  Belice  Guatemala\n",
              "a       0    1       2          3\n",
              "b       4    5       6          7\n",
              "c       8    9      10         11\n",
              "d      12   13      14         15"
            ]
          },
          "metadata": {},
          "execution_count": 76
        }
      ]
    },
    {
      "cell_type": "code",
      "metadata": {
        "colab": {
          "base_uri": "https://localhost:8080/"
        },
        "id": "o9Q5fvHpg_5p",
        "outputId": "47d464f7-314f-4739-8a50-85e178ac9369"
      },
      "source": [
        "#obtiene una fila utilizando iloc\n",
        "df4.iloc[1] "
      ],
      "execution_count": null,
      "outputs": [
        {
          "output_type": "execute_result",
          "data": {
            "text/plain": [
              "México       4\n",
              "USA          5\n",
              "Belice       6\n",
              "Guatemala    7\n",
              "Name: b, dtype: int64"
            ]
          },
          "metadata": {},
          "execution_count": 78
        }
      ]
    },
    {
      "cell_type": "code",
      "metadata": {
        "colab": {
          "base_uri": "https://localhost:8080/",
          "height": 413
        },
        "id": "z0VzNneWhEMd",
        "outputId": "d3bb7ec3-8fce-4c3d-c3aa-1b1edf9c7255"
      },
      "source": [
        "encabezado(\"Valor específico\")\n",
        "display( df4.iloc[2, 2 ] )# obtener un valor específico en la tabla [fila, columna]\n",
        "encabezado(\"Columna Belice\")\n",
        "display( df4.iloc[ : , 2 ] ) #obtener toda la columna Belice\n",
        "encabezado(\"Fila A\")\n",
        "df4.iloc[0, : ]"
      ],
      "execution_count": null,
      "outputs": [
        {
          "output_type": "stream",
          "name": "stdout",
          "text": [
            "\n",
            "--------------------------------------------------\n",
            "[Valor específico]\n",
            "--------------------------------------------------\n"
          ]
        },
        {
          "output_type": "display_data",
          "data": {
            "text/plain": [
              "10"
            ]
          },
          "metadata": {}
        },
        {
          "output_type": "stream",
          "name": "stdout",
          "text": [
            "\n",
            "--------------------------------------------------\n",
            "[Columna Belice]\n",
            "--------------------------------------------------\n"
          ]
        },
        {
          "output_type": "display_data",
          "data": {
            "text/plain": [
              "a     2\n",
              "b     6\n",
              "c    10\n",
              "d    14\n",
              "Name: Belice, dtype: int64"
            ]
          },
          "metadata": {}
        },
        {
          "output_type": "stream",
          "name": "stdout",
          "text": [
            "\n",
            "--------------------------------------------------\n",
            "[Fila A]\n",
            "--------------------------------------------------\n"
          ]
        },
        {
          "output_type": "execute_result",
          "data": {
            "text/plain": [
              "México       0\n",
              "USA          1\n",
              "Belice       2\n",
              "Guatemala    3\n",
              "Name: a, dtype: int64"
            ]
          },
          "metadata": {},
          "execution_count": 79
        }
      ]
    },
    {
      "cell_type": "code",
      "metadata": {
        "colab": {
          "base_uri": "https://localhost:8080/",
          "height": 406
        },
        "id": "TL83rTrIhqsW",
        "outputId": "2db32529-dace-4102-d98c-8bf994906297"
      },
      "source": [
        "encabezado(\"Slice\")\n",
        "display( df4.iloc[ 1:4 , :3] ) #incluye el último elemento\n",
        "encabezado(\"Filtrado\")\n",
        "df4.iloc[ [1,0, 3] , [3, 2] ]"
      ],
      "execution_count": null,
      "outputs": [
        {
          "output_type": "stream",
          "name": "stdout",
          "text": [
            "\n",
            "--------------------------------------------------\n",
            "[Slice]\n",
            "--------------------------------------------------\n"
          ]
        },
        {
          "output_type": "display_data",
          "data": {
            "text/html": [
              "<div>\n",
              "<style scoped>\n",
              "    .dataframe tbody tr th:only-of-type {\n",
              "        vertical-align: middle;\n",
              "    }\n",
              "\n",
              "    .dataframe tbody tr th {\n",
              "        vertical-align: top;\n",
              "    }\n",
              "\n",
              "    .dataframe thead th {\n",
              "        text-align: right;\n",
              "    }\n",
              "</style>\n",
              "<table border=\"1\" class=\"dataframe\">\n",
              "  <thead>\n",
              "    <tr style=\"text-align: right;\">\n",
              "      <th></th>\n",
              "      <th>México</th>\n",
              "      <th>USA</th>\n",
              "      <th>Belice</th>\n",
              "    </tr>\n",
              "  </thead>\n",
              "  <tbody>\n",
              "    <tr>\n",
              "      <th>b</th>\n",
              "      <td>4</td>\n",
              "      <td>5</td>\n",
              "      <td>6</td>\n",
              "    </tr>\n",
              "    <tr>\n",
              "      <th>c</th>\n",
              "      <td>8</td>\n",
              "      <td>9</td>\n",
              "      <td>10</td>\n",
              "    </tr>\n",
              "    <tr>\n",
              "      <th>d</th>\n",
              "      <td>12</td>\n",
              "      <td>13</td>\n",
              "      <td>14</td>\n",
              "    </tr>\n",
              "  </tbody>\n",
              "</table>\n",
              "</div>"
            ],
            "text/plain": [
              "   México  USA  Belice\n",
              "b       4    5       6\n",
              "c       8    9      10\n",
              "d      12   13      14"
            ]
          },
          "metadata": {}
        },
        {
          "output_type": "stream",
          "name": "stdout",
          "text": [
            "\n",
            "--------------------------------------------------\n",
            "[Filtrado]\n",
            "--------------------------------------------------\n"
          ]
        },
        {
          "output_type": "execute_result",
          "data": {
            "text/html": [
              "<div>\n",
              "<style scoped>\n",
              "    .dataframe tbody tr th:only-of-type {\n",
              "        vertical-align: middle;\n",
              "    }\n",
              "\n",
              "    .dataframe tbody tr th {\n",
              "        vertical-align: top;\n",
              "    }\n",
              "\n",
              "    .dataframe thead th {\n",
              "        text-align: right;\n",
              "    }\n",
              "</style>\n",
              "<table border=\"1\" class=\"dataframe\">\n",
              "  <thead>\n",
              "    <tr style=\"text-align: right;\">\n",
              "      <th></th>\n",
              "      <th>Guatemala</th>\n",
              "      <th>Belice</th>\n",
              "    </tr>\n",
              "  </thead>\n",
              "  <tbody>\n",
              "    <tr>\n",
              "      <th>b</th>\n",
              "      <td>7</td>\n",
              "      <td>6</td>\n",
              "    </tr>\n",
              "    <tr>\n",
              "      <th>a</th>\n",
              "      <td>3</td>\n",
              "      <td>2</td>\n",
              "    </tr>\n",
              "    <tr>\n",
              "      <th>d</th>\n",
              "      <td>15</td>\n",
              "      <td>14</td>\n",
              "    </tr>\n",
              "  </tbody>\n",
              "</table>\n",
              "</div>"
            ],
            "text/plain": [
              "   Guatemala  Belice\n",
              "b          7       6\n",
              "a          3       2\n",
              "d         15      14"
            ]
          },
          "metadata": {},
          "execution_count": 94
        }
      ]
    },
    {
      "cell_type": "markdown",
      "metadata": {
        "id": "V2SpEHppjnJa"
      },
      "source": [
        "# Estructura tipo índice"
      ]
    },
    {
      "cell_type": "code",
      "metadata": {
        "colab": {
          "base_uri": "https://localhost:8080/",
          "height": 51
        },
        "id": "MV8hXSD0h6wX",
        "outputId": "c17d12b7-d2a6-405d-a03e-105d03ecf256"
      },
      "source": [
        "display (df4.columns)\n",
        "display (df4.index)"
      ],
      "execution_count": null,
      "outputs": [
        {
          "output_type": "display_data",
          "data": {
            "text/plain": [
              "Index(['México', 'USA', 'Belice', 'Guatemala'], dtype='object')"
            ]
          },
          "metadata": {}
        },
        {
          "output_type": "display_data",
          "data": {
            "text/plain": [
              "Index(['a', 'b', 'c', 'd'], dtype='object')"
            ]
          },
          "metadata": {}
        }
      ]
    },
    {
      "cell_type": "code",
      "metadata": {
        "colab": {
          "base_uri": "https://localhost:8080/"
        },
        "id": "z2-V2b0bjv0a",
        "outputId": "868cfd81-6961-42b3-dfc8-1b506aa9b0ae"
      },
      "source": [
        "s1= Series([1.5, -2.7, 3.8, 0.4], index=df4.columns)\n",
        "s1"
      ],
      "execution_count": null,
      "outputs": [
        {
          "output_type": "execute_result",
          "data": {
            "text/plain": [
              "México       1.5\n",
              "USA         -2.7\n",
              "Belice       3.8\n",
              "Guatemala    0.4\n",
              "dtype: float64"
            ]
          },
          "metadata": {},
          "execution_count": 99
        }
      ]
    },
    {
      "cell_type": "markdown",
      "metadata": {
        "id": "8CtYnrj_kLXX"
      },
      "source": [
        "## Operaciones sobre índices"
      ]
    },
    {
      "cell_type": "code",
      "metadata": {
        "colab": {
          "base_uri": "https://localhost:8080/",
          "height": 51
        },
        "id": "F29STaavkFN8",
        "outputId": "bdd8d6e5-7add-4c58-e294-6a545ad59cd3"
      },
      "source": [
        "indice= s1.index\n",
        "\n",
        "display ( \"Jalisco\" in indice )\n",
        "\"Belice\" in indice"
      ],
      "execution_count": null,
      "outputs": [
        {
          "output_type": "display_data",
          "data": {
            "text/plain": [
              "False"
            ]
          },
          "metadata": {}
        },
        {
          "output_type": "execute_result",
          "data": {
            "text/plain": [
              "True"
            ]
          },
          "metadata": {},
          "execution_count": 102
        }
      ]
    },
    {
      "cell_type": "code",
      "metadata": {
        "colab": {
          "base_uri": "https://localhost:8080/"
        },
        "id": "RoI4o2M3kQBC",
        "outputId": "fa9518d4-cd3f-42b8-b382-2b7d8e10c28a"
      },
      "source": [
        "indice1= pd.Index(np.arange(0,10))\n",
        "indice2= pd.Index(np.arange(0,20,2))\n",
        "\n",
        "# Unión\n",
        "indice1.union(indice2)"
      ],
      "execution_count": null,
      "outputs": [
        {
          "output_type": "execute_result",
          "data": {
            "text/plain": [
              "Int64Index([0, 1, 2, 3, 4, 5, 6, 7, 8, 9, 10, 12, 14, 16, 18], dtype='int64')"
            ]
          },
          "metadata": {},
          "execution_count": 111
        }
      ]
    },
    {
      "cell_type": "code",
      "metadata": {
        "colab": {
          "base_uri": "https://localhost:8080/"
        },
        "id": "SWYl9YR3kgT1",
        "outputId": "c683c169-d596-4c42-8b3e-79d1c34b150d"
      },
      "source": [
        "# Intersección\n",
        "indice1.intersection(indice2)\n"
      ],
      "execution_count": null,
      "outputs": [
        {
          "output_type": "execute_result",
          "data": {
            "text/plain": [
              "Int64Index([0, 2, 4, 6, 8], dtype='int64')"
            ]
          },
          "metadata": {},
          "execution_count": 112
        }
      ]
    },
    {
      "cell_type": "code",
      "metadata": {
        "colab": {
          "base_uri": "https://localhost:8080/"
        },
        "id": "pR8jg5dllKnL",
        "outputId": "46bd912d-bbc8-4395-a6ab-a96691d277c2"
      },
      "source": [
        "# Diferencia\n",
        "indice1.difference(indice2)"
      ],
      "execution_count": null,
      "outputs": [
        {
          "output_type": "execute_result",
          "data": {
            "text/plain": [
              "Int64Index([1, 3, 5, 7, 9], dtype='int64')"
            ]
          },
          "metadata": {},
          "execution_count": 113
        }
      ]
    },
    {
      "cell_type": "code",
      "metadata": {
        "colab": {
          "base_uri": "https://localhost:8080/"
        },
        "id": "7LEYCkmQlWQs",
        "outputId": "7ea1772c-2419-4bad-f362-7244a9a4c1cb"
      },
      "source": [
        "indice3= pd.Index([\"abc\", \"abc\", \"def\", \"def\"])\n",
        "indice3"
      ],
      "execution_count": null,
      "outputs": [
        {
          "output_type": "execute_result",
          "data": {
            "text/plain": [
              "Index(['abc', 'abc', 'def', 'def'], dtype='object')"
            ]
          },
          "metadata": {},
          "execution_count": 115
        }
      ]
    },
    {
      "cell_type": "code",
      "metadata": {
        "colab": {
          "base_uri": "https://localhost:8080/",
          "height": 205
        },
        "id": "KMgv20vglvSK",
        "outputId": "dc55c29b-64d0-4954-8be5-28848271b583"
      },
      "source": [
        "df1= DataFrame(data, index= frame[\"estado\"])\n",
        "df1.loc[\"Jalisco\"]"
      ],
      "execution_count": null,
      "outputs": [
        {
          "output_type": "execute_result",
          "data": {
            "text/html": [
              "<div>\n",
              "<style scoped>\n",
              "    .dataframe tbody tr th:only-of-type {\n",
              "        vertical-align: middle;\n",
              "    }\n",
              "\n",
              "    .dataframe tbody tr th {\n",
              "        vertical-align: top;\n",
              "    }\n",
              "\n",
              "    .dataframe thead th {\n",
              "        text-align: right;\n",
              "    }\n",
              "</style>\n",
              "<table border=\"1\" class=\"dataframe\">\n",
              "  <thead>\n",
              "    <tr style=\"text-align: right;\">\n",
              "      <th></th>\n",
              "      <th>estado</th>\n",
              "      <th>año</th>\n",
              "      <th>población</th>\n",
              "    </tr>\n",
              "    <tr>\n",
              "      <th>estado</th>\n",
              "      <th></th>\n",
              "      <th></th>\n",
              "      <th></th>\n",
              "    </tr>\n",
              "  </thead>\n",
              "  <tbody>\n",
              "    <tr>\n",
              "      <th>Jalisco</th>\n",
              "      <td>Jalisco</td>\n",
              "      <td>2000</td>\n",
              "      <td>6.32</td>\n",
              "    </tr>\n",
              "    <tr>\n",
              "      <th>Jalisco</th>\n",
              "      <td>Jalisco</td>\n",
              "      <td>2005</td>\n",
              "      <td>6.75</td>\n",
              "    </tr>\n",
              "    <tr>\n",
              "      <th>Jalisco</th>\n",
              "      <td>Jalisco</td>\n",
              "      <td>2010</td>\n",
              "      <td>7.35</td>\n",
              "    </tr>\n",
              "    <tr>\n",
              "      <th>Jalisco</th>\n",
              "      <td>Jalisco</td>\n",
              "      <td>2020</td>\n",
              "      <td>8.34</td>\n",
              "    </tr>\n",
              "  </tbody>\n",
              "</table>\n",
              "</div>"
            ],
            "text/plain": [
              "          estado   año  población\n",
              "estado                           \n",
              "Jalisco  Jalisco  2000       6.32\n",
              "Jalisco  Jalisco  2005       6.75\n",
              "Jalisco  Jalisco  2010       7.35\n",
              "Jalisco  Jalisco  2020       8.34"
            ]
          },
          "metadata": {},
          "execution_count": 121
        }
      ]
    },
    {
      "cell_type": "code",
      "metadata": {
        "colab": {
          "base_uri": "https://localhost:8080/",
          "height": 205
        },
        "id": "2qaik0Aplzse",
        "outputId": "869e37ce-ef3c-4c98-a2e6-d0cb6e6ad575"
      },
      "source": [
        "## Eliminar un cierto índice de fila\n",
        "df1.drop(\"Jalisco\")"
      ],
      "execution_count": null,
      "outputs": [
        {
          "output_type": "execute_result",
          "data": {
            "text/html": [
              "<div>\n",
              "<style scoped>\n",
              "    .dataframe tbody tr th:only-of-type {\n",
              "        vertical-align: middle;\n",
              "    }\n",
              "\n",
              "    .dataframe tbody tr th {\n",
              "        vertical-align: top;\n",
              "    }\n",
              "\n",
              "    .dataframe thead th {\n",
              "        text-align: right;\n",
              "    }\n",
              "</style>\n",
              "<table border=\"1\" class=\"dataframe\">\n",
              "  <thead>\n",
              "    <tr style=\"text-align: right;\">\n",
              "      <th></th>\n",
              "      <th>estado</th>\n",
              "      <th>año</th>\n",
              "      <th>población</th>\n",
              "    </tr>\n",
              "    <tr>\n",
              "      <th>estado</th>\n",
              "      <th></th>\n",
              "      <th></th>\n",
              "      <th></th>\n",
              "    </tr>\n",
              "  </thead>\n",
              "  <tbody>\n",
              "    <tr>\n",
              "      <th>Colima</th>\n",
              "      <td>Colima</td>\n",
              "      <td>2000</td>\n",
              "      <td>0.54</td>\n",
              "    </tr>\n",
              "    <tr>\n",
              "      <th>Colima</th>\n",
              "      <td>Colima</td>\n",
              "      <td>2005</td>\n",
              "      <td>0.57</td>\n",
              "    </tr>\n",
              "    <tr>\n",
              "      <th>Colima</th>\n",
              "      <td>Colima</td>\n",
              "      <td>2010</td>\n",
              "      <td>0.65</td>\n",
              "    </tr>\n",
              "    <tr>\n",
              "      <th>Colima</th>\n",
              "      <td>Colima</td>\n",
              "      <td>2020</td>\n",
              "      <td>0.73</td>\n",
              "    </tr>\n",
              "  </tbody>\n",
              "</table>\n",
              "</div>"
            ],
            "text/plain": [
              "        estado   año  población\n",
              "estado                         \n",
              "Colima  Colima  2000       0.54\n",
              "Colima  Colima  2005       0.57\n",
              "Colima  Colima  2010       0.65\n",
              "Colima  Colima  2020       0.73"
            ]
          },
          "metadata": {},
          "execution_count": 122
        }
      ]
    },
    {
      "cell_type": "code",
      "metadata": {
        "colab": {
          "base_uri": "https://localhost:8080/",
          "height": 330
        },
        "id": "700cGmMYmgiz",
        "outputId": "16e28b65-7f2e-4852-c7cb-08330e4f4235"
      },
      "source": [
        "df1"
      ],
      "execution_count": null,
      "outputs": [
        {
          "output_type": "execute_result",
          "data": {
            "text/html": [
              "<div>\n",
              "<style scoped>\n",
              "    .dataframe tbody tr th:only-of-type {\n",
              "        vertical-align: middle;\n",
              "    }\n",
              "\n",
              "    .dataframe tbody tr th {\n",
              "        vertical-align: top;\n",
              "    }\n",
              "\n",
              "    .dataframe thead th {\n",
              "        text-align: right;\n",
              "    }\n",
              "</style>\n",
              "<table border=\"1\" class=\"dataframe\">\n",
              "  <thead>\n",
              "    <tr style=\"text-align: right;\">\n",
              "      <th></th>\n",
              "      <th>estado</th>\n",
              "      <th>año</th>\n",
              "      <th>población</th>\n",
              "    </tr>\n",
              "    <tr>\n",
              "      <th>estado</th>\n",
              "      <th></th>\n",
              "      <th></th>\n",
              "      <th></th>\n",
              "    </tr>\n",
              "  </thead>\n",
              "  <tbody>\n",
              "    <tr>\n",
              "      <th>Jalisco</th>\n",
              "      <td>Jalisco</td>\n",
              "      <td>2000</td>\n",
              "      <td>6.32</td>\n",
              "    </tr>\n",
              "    <tr>\n",
              "      <th>Jalisco</th>\n",
              "      <td>Jalisco</td>\n",
              "      <td>2005</td>\n",
              "      <td>6.75</td>\n",
              "    </tr>\n",
              "    <tr>\n",
              "      <th>Jalisco</th>\n",
              "      <td>Jalisco</td>\n",
              "      <td>2010</td>\n",
              "      <td>7.35</td>\n",
              "    </tr>\n",
              "    <tr>\n",
              "      <th>Jalisco</th>\n",
              "      <td>Jalisco</td>\n",
              "      <td>2020</td>\n",
              "      <td>8.34</td>\n",
              "    </tr>\n",
              "    <tr>\n",
              "      <th>Colima</th>\n",
              "      <td>Colima</td>\n",
              "      <td>2000</td>\n",
              "      <td>0.54</td>\n",
              "    </tr>\n",
              "    <tr>\n",
              "      <th>Colima</th>\n",
              "      <td>Colima</td>\n",
              "      <td>2005</td>\n",
              "      <td>0.57</td>\n",
              "    </tr>\n",
              "    <tr>\n",
              "      <th>Colima</th>\n",
              "      <td>Colima</td>\n",
              "      <td>2010</td>\n",
              "      <td>0.65</td>\n",
              "    </tr>\n",
              "    <tr>\n",
              "      <th>Colima</th>\n",
              "      <td>Colima</td>\n",
              "      <td>2020</td>\n",
              "      <td>0.73</td>\n",
              "    </tr>\n",
              "  </tbody>\n",
              "</table>\n",
              "</div>"
            ],
            "text/plain": [
              "          estado   año  población\n",
              "estado                           \n",
              "Jalisco  Jalisco  2000       6.32\n",
              "Jalisco  Jalisco  2005       6.75\n",
              "Jalisco  Jalisco  2010       7.35\n",
              "Jalisco  Jalisco  2020       8.34\n",
              "Colima    Colima  2000       0.54\n",
              "Colima    Colima  2005       0.57\n",
              "Colima    Colima  2010       0.65\n",
              "Colima    Colima  2020       0.73"
            ]
          },
          "metadata": {},
          "execution_count": 123
        }
      ]
    },
    {
      "cell_type": "code",
      "metadata": {
        "colab": {
          "base_uri": "https://localhost:8080/"
        },
        "id": "-FKFx8PUmmxG",
        "outputId": "e41ed888-5ed2-406d-fa2b-4ac5cd89ea48"
      },
      "source": [
        "#Agregar valor al índice\n",
        "indice4= indice3.insert(7,\"ghi\")"
      ],
      "execution_count": null,
      "outputs": [
        {
          "output_type": "execute_result",
          "data": {
            "text/plain": [
              "Index(['abc', 'abc', 'def', 'def', 'ghi'], dtype='object')"
            ]
          },
          "metadata": {},
          "execution_count": 128
        }
      ]
    },
    {
      "cell_type": "code",
      "metadata": {
        "colab": {
          "base_uri": "https://localhost:8080/"
        },
        "id": "kehpxKV7m1hT",
        "outputId": "a3f8e072-fb00-4709-bd2a-0034fd3f3882"
      },
      "source": [
        "indice3"
      ],
      "execution_count": null,
      "outputs": [
        {
          "output_type": "execute_result",
          "data": {
            "text/plain": [
              "Index(['abc', 'abc', 'def', 'def'], dtype='object')"
            ]
          },
          "metadata": {},
          "execution_count": 129
        }
      ]
    },
    {
      "cell_type": "code",
      "metadata": {
        "id": "yfZHa_iynLVE"
      },
      "source": [
        ""
      ],
      "execution_count": null,
      "outputs": []
    }
  ]
}