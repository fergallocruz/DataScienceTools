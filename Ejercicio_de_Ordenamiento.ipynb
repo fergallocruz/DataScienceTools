{
  "nbformat": 4,
  "nbformat_minor": 0,
  "metadata": {
    "colab": {
      "name": "Ejercicio de Ordenamiento",
      "provenance": [],
      "include_colab_link": true
    },
    "kernelspec": {
      "name": "python3",
      "display_name": "Python 3"
    },
    "language_info": {
      "name": "python"
    }
  },
  "cells": [
    {
      "cell_type": "markdown",
      "metadata": {
        "id": "view-in-github",
        "colab_type": "text"
      },
      "source": [
        "<a href=\"https://colab.research.google.com/github/fergallocruz/DataScienceTools/blob/main/Ejercicio_de_Ordenamiento.ipynb\" target=\"_parent\"><img src=\"https://colab.research.google.com/assets/colab-badge.svg\" alt=\"Open In Colab\"/></a>"
      ]
    },
    {
      "cell_type": "code",
      "metadata": {
        "id": "juau6st5HfvT"
      },
      "source": [
        "from random import randint, choice\n",
        "\n",
        "frutas= [\"manzana\", \"pera\",\"limon\", \"sandía\", \"plátano\", \"cereza\"]\n",
        "personas= [\"Ana\",\"Beto\",\"Daniela\", \"Carlos\", \"Emmanuel\", \"Felipe\", \"Gloria\"]\n"
      ],
      "execution_count": null,
      "outputs": []
    },
    {
      "cell_type": "code",
      "metadata": {
        "id": "f0t1voWBHjqr"
      },
      "source": [
        "db= [ (nombre, choice(frutas), randint(1,1000), randint(1,1000), randint(1,1000)) for nombre in personas ]"
      ],
      "execution_count": null,
      "outputs": []
    },
    {
      "cell_type": "code",
      "metadata": {
        "colab": {
          "base_uri": "https://localhost:8080/"
        },
        "id": "mWEkPeimJa3-",
        "outputId": "85158f63-bd8e-4b0c-d451-071d90609ff4"
      },
      "source": [
        "db"
      ],
      "execution_count": null,
      "outputs": [
        {
          "output_type": "execute_result",
          "data": {
            "text/plain": [
              "[('Ana', 'cereza', 652, 559, 505),\n",
              " ('Beto', 'manzana', 965, 863, 320),\n",
              " ('Daniela', 'plátano', 956, 358, 474),\n",
              " ('Carlos', 'plátano', 600, 863, 494),\n",
              " ('Emmanuel', 'cereza', 330, 37, 810),\n",
              " ('Felipe', 'pera', 721, 1, 31),\n",
              " ('Gloria', 'cereza', 860, 256, 943)]"
            ]
          },
          "metadata": {},
          "execution_count": 27
        }
      ]
    },
    {
      "cell_type": "code",
      "metadata": {
        "id": "ea3Hbgc3Qv-S"
      },
      "source": [
        "categorias=[\"nombre\", \"fruta\", \"R1\", \"R2\", \"R3\"]"
      ],
      "execution_count": null,
      "outputs": []
    },
    {
      "cell_type": "code",
      "metadata": {
        "colab": {
          "base_uri": "https://localhost:8080/"
        },
        "id": "ZCovUO_3Q65z",
        "outputId": "450b23c6-5fbc-4867-c38a-ee5084b764ec"
      },
      "source": [
        "from dataclasses import dataclass\n",
        "\n",
        "@dataclass\n",
        "class Elemento:\n",
        "    nombre: str\n",
        "    fruta: str\n",
        "    R1: int\n",
        "    R2: int\n",
        "    R3: int\n",
        "\n",
        "datos= [ Elemento(*d) for d in db]\n",
        "datos"
      ],
      "execution_count": null,
      "outputs": [
        {
          "output_type": "execute_result",
          "data": {
            "text/plain": [
              "[Elemento(nombre='Ana', fruta='cereza', R1=652, R2=559, R3=505),\n",
              " Elemento(nombre='Beto', fruta='manzana', R1=965, R2=863, R3=320),\n",
              " Elemento(nombre='Daniela', fruta='plátano', R1=956, R2=358, R3=474),\n",
              " Elemento(nombre='Carlos', fruta='plátano', R1=600, R2=863, R3=494),\n",
              " Elemento(nombre='Emmanuel', fruta='cereza', R1=330, R2=37, R3=810),\n",
              " Elemento(nombre='Felipe', fruta='pera', R1=721, R2=1, R3=31),\n",
              " Elemento(nombre='Gloria', fruta='cereza', R1=860, R2=256, R3=943)]"
            ]
          },
          "metadata": {},
          "execution_count": 33
        }
      ]
    },
    {
      "cell_type": "code",
      "metadata": {
        "colab": {
          "base_uri": "https://localhost:8080/"
        },
        "id": "VKCtwRFtRbtr",
        "outputId": "17a0d099-cf6c-4f09-fad5-d69391b731c1"
      },
      "source": [
        "sorted([10, 15, 20, 1, 4, 45, 8 ])"
      ],
      "execution_count": null,
      "outputs": [
        {
          "output_type": "execute_result",
          "data": {
            "text/plain": [
              "[1, 4, 8, 10, 15, 20, 45]"
            ]
          },
          "metadata": {},
          "execution_count": 34
        }
      ]
    },
    {
      "cell_type": "code",
      "metadata": {
        "colab": {
          "base_uri": "https://localhost:8080/"
        },
        "id": "czon3zzHSNLn",
        "outputId": "68525bf3-3626-4787-c661-586d2fe99859"
      },
      "source": [
        "sorted( [\"animal\", \"casa\", \"zanahoria\", \"ambrusio\", \"caracol\"] )"
      ],
      "execution_count": null,
      "outputs": [
        {
          "output_type": "execute_result",
          "data": {
            "text/plain": [
              "['ambrusio', 'animal', 'caracol', 'casa', 'zanahoria']"
            ]
          },
          "metadata": {},
          "execution_count": 35
        }
      ]
    },
    {
      "cell_type": "code",
      "metadata": {
        "colab": {
          "base_uri": "https://localhost:8080/"
        },
        "id": "bUIXpDnnSbT-",
        "outputId": "e4714258-024c-4836-9685-7f7edd834673"
      },
      "source": [
        "sorted( [ (2,3), (8,7), (5,6), (2,1), (5,0) ] )"
      ],
      "execution_count": null,
      "outputs": [
        {
          "output_type": "execute_result",
          "data": {
            "text/plain": [
              "[(2, 1), (2, 3), (5, 0), (5, 6), (8, 7)]"
            ]
          },
          "metadata": {},
          "execution_count": 36
        }
      ]
    },
    {
      "cell_type": "code",
      "metadata": {
        "colab": {
          "base_uri": "https://localhost:8080/"
        },
        "id": "Xy6J1Vp5SogM",
        "outputId": "650643e6-21c3-417e-b8b3-816901a2920c"
      },
      "source": [
        "sorted( db )"
      ],
      "execution_count": null,
      "outputs": [
        {
          "output_type": "execute_result",
          "data": {
            "text/plain": [
              "[('Ana', 'cereza', 652, 559, 505),\n",
              " ('Beto', 'manzana', 965, 863, 320),\n",
              " ('Carlos', 'plátano', 600, 863, 494),\n",
              " ('Daniela', 'plátano', 956, 358, 474),\n",
              " ('Emmanuel', 'cereza', 330, 37, 810),\n",
              " ('Felipe', 'pera', 721, 1, 31),\n",
              " ('Gloria', 'cereza', 860, 256, 943)]"
            ]
          },
          "metadata": {},
          "execution_count": 39
        }
      ]
    },
    {
      "cell_type": "code",
      "metadata": {
        "colab": {
          "base_uri": "https://localhost:8080/"
        },
        "id": "pDYG9ttkSzGi",
        "outputId": "db6e7092-2c27-426b-eb54-073c6aab7e70"
      },
      "source": [
        "def orden(lista):\n",
        "    return lista[2]\n",
        "\n",
        "sorted( db, key= orden)"
      ],
      "execution_count": null,
      "outputs": [
        {
          "output_type": "execute_result",
          "data": {
            "text/plain": [
              "[('Emmanuel', 'cereza', 330, 37, 810),\n",
              " ('Carlos', 'plátano', 600, 863, 494),\n",
              " ('Ana', 'cereza', 652, 559, 505),\n",
              " ('Felipe', 'pera', 721, 1, 31),\n",
              " ('Gloria', 'cereza', 860, 256, 943),\n",
              " ('Daniela', 'plátano', 956, 358, 474),\n",
              " ('Beto', 'manzana', 965, 863, 320)]"
            ]
          },
          "metadata": {},
          "execution_count": 41
        }
      ]
    },
    {
      "cell_type": "code",
      "metadata": {
        "colab": {
          "base_uri": "https://localhost:8080/"
        },
        "id": "_ECkm8HFTWZJ",
        "outputId": "3d5cefd2-57f0-4829-93e1-efbee2c6309a"
      },
      "source": [
        "def orden(elemento):\n",
        "    return elemento.R1\n",
        "sorted( datos, key=orden)"
      ],
      "execution_count": null,
      "outputs": [
        {
          "output_type": "execute_result",
          "data": {
            "text/plain": [
              "[Elemento(nombre='Emmanuel', fruta='cereza', R1=330, R2=37, R3=810),\n",
              " Elemento(nombre='Carlos', fruta='plátano', R1=600, R2=863, R3=494),\n",
              " Elemento(nombre='Ana', fruta='cereza', R1=652, R2=559, R3=505),\n",
              " Elemento(nombre='Felipe', fruta='pera', R1=721, R2=1, R3=31),\n",
              " Elemento(nombre='Gloria', fruta='cereza', R1=860, R2=256, R3=943),\n",
              " Elemento(nombre='Daniela', fruta='plátano', R1=956, R2=358, R3=474),\n",
              " Elemento(nombre='Beto', fruta='manzana', R1=965, R2=863, R3=320)]"
            ]
          },
          "metadata": {},
          "execution_count": 42
        }
      ]
    },
    {
      "cell_type": "code",
      "metadata": {
        "colab": {
          "base_uri": "https://localhost:8080/"
        },
        "id": "ScCPg8g0T2ki",
        "outputId": "f6abd9ba-bdf5-4b31-88b1-8b9668952afe"
      },
      "source": [
        "sorted (datos, key= lambda x: x.R1)"
      ],
      "execution_count": null,
      "outputs": [
        {
          "output_type": "execute_result",
          "data": {
            "text/plain": [
              "[Elemento(nombre='Emmanuel', fruta='cereza', R1=330, R2=37, R3=810),\n",
              " Elemento(nombre='Carlos', fruta='plátano', R1=600, R2=863, R3=494),\n",
              " Elemento(nombre='Ana', fruta='cereza', R1=652, R2=559, R3=505),\n",
              " Elemento(nombre='Felipe', fruta='pera', R1=721, R2=1, R3=31),\n",
              " Elemento(nombre='Gloria', fruta='cereza', R1=860, R2=256, R3=943),\n",
              " Elemento(nombre='Daniela', fruta='plátano', R1=956, R2=358, R3=474),\n",
              " Elemento(nombre='Beto', fruta='manzana', R1=965, R2=863, R3=320)]"
            ]
          },
          "metadata": {},
          "execution_count": 43
        }
      ]
    },
    {
      "cell_type": "code",
      "metadata": {
        "colab": {
          "base_uri": "https://localhost:8080/"
        },
        "id": "P9uELNZQUJlj",
        "outputId": "f471abd7-ba88-4092-8ee7-fb1fc7c6f932"
      },
      "source": [
        "def orden(elemento):\n",
        "    return elemento.fruta, elemento.R1\n",
        "\n",
        "sorted (datos, key= orden)"
      ],
      "execution_count": null,
      "outputs": [
        {
          "output_type": "execute_result",
          "data": {
            "text/plain": [
              "[Elemento(nombre='Emmanuel', fruta='cereza', R1=330, R2=37, R3=810),\n",
              " Elemento(nombre='Ana', fruta='cereza', R1=652, R2=559, R3=505),\n",
              " Elemento(nombre='Gloria', fruta='cereza', R1=860, R2=256, R3=943),\n",
              " Elemento(nombre='Beto', fruta='manzana', R1=965, R2=863, R3=320),\n",
              " Elemento(nombre='Felipe', fruta='pera', R1=721, R2=1, R3=31),\n",
              " Elemento(nombre='Carlos', fruta='plátano', R1=600, R2=863, R3=494),\n",
              " Elemento(nombre='Daniela', fruta='plátano', R1=956, R2=358, R3=474)]"
            ]
          },
          "metadata": {},
          "execution_count": 45
        }
      ]
    },
    {
      "cell_type": "code",
      "metadata": {
        "colab": {
          "base_uri": "https://localhost:8080/"
        },
        "id": "Hml8wdV0Ua88",
        "outputId": "d100698d-10d6-42b1-ca38-a0601913a85a"
      },
      "source": [
        "sorted ( datos, key= lambda x: (x.fruta, x.R1) )"
      ],
      "execution_count": null,
      "outputs": [
        {
          "output_type": "execute_result",
          "data": {
            "text/plain": [
              "[Elemento(nombre='Emmanuel', fruta='cereza', R1=330, R2=37, R3=810),\n",
              " Elemento(nombre='Ana', fruta='cereza', R1=652, R2=559, R3=505),\n",
              " Elemento(nombre='Gloria', fruta='cereza', R1=860, R2=256, R3=943),\n",
              " Elemento(nombre='Beto', fruta='manzana', R1=965, R2=863, R3=320),\n",
              " Elemento(nombre='Felipe', fruta='pera', R1=721, R2=1, R3=31),\n",
              " Elemento(nombre='Carlos', fruta='plátano', R1=600, R2=863, R3=494),\n",
              " Elemento(nombre='Daniela', fruta='plátano', R1=956, R2=358, R3=474)]"
            ]
          },
          "metadata": {},
          "execution_count": 46
        }
      ]
    },
    {
      "cell_type": "code",
      "metadata": {
        "colab": {
          "base_uri": "https://localhost:8080/"
        },
        "id": "U0XnaYPZU48y",
        "outputId": "7882a01d-606c-4d57-8c8f-77c0b5642b50"
      },
      "source": [
        "def orden(x):\n",
        "    return x.R1+ x.R2 + x.R3\n",
        "\n",
        "sorted( datos, key= orden)"
      ],
      "execution_count": null,
      "outputs": [
        {
          "output_type": "execute_result",
          "data": {
            "text/plain": [
              "[Elemento(nombre='Felipe', fruta='pera', R1=721, R2=1, R3=31),\n",
              " Elemento(nombre='Emmanuel', fruta='cereza', R1=330, R2=37, R3=810),\n",
              " Elemento(nombre='Ana', fruta='cereza', R1=652, R2=559, R3=505),\n",
              " Elemento(nombre='Daniela', fruta='plátano', R1=956, R2=358, R3=474),\n",
              " Elemento(nombre='Carlos', fruta='plátano', R1=600, R2=863, R3=494),\n",
              " Elemento(nombre='Gloria', fruta='cereza', R1=860, R2=256, R3=943),\n",
              " Elemento(nombre='Beto', fruta='manzana', R1=965, R2=863, R3=320)]"
            ]
          },
          "metadata": {},
          "execution_count": 47
        }
      ]
    },
    {
      "cell_type": "code",
      "metadata": {
        "colab": {
          "base_uri": "https://localhost:8080/"
        },
        "id": "bk7ohK2HVXBp",
        "outputId": "700cc92c-e248-4fbe-a829-026b996cf5cd"
      },
      "source": [
        "def orden(x):\n",
        "    return x.R1+ x.R2 + x.R3\n",
        "\n",
        "sorted( datos, key= orden, reverse= True)"
      ],
      "execution_count": null,
      "outputs": [
        {
          "output_type": "execute_result",
          "data": {
            "text/plain": [
              "[Elemento(nombre='Beto', fruta='manzana', R1=965, R2=863, R3=320),\n",
              " Elemento(nombre='Gloria', fruta='cereza', R1=860, R2=256, R3=943),\n",
              " Elemento(nombre='Carlos', fruta='plátano', R1=600, R2=863, R3=494),\n",
              " Elemento(nombre='Daniela', fruta='plátano', R1=956, R2=358, R3=474),\n",
              " Elemento(nombre='Ana', fruta='cereza', R1=652, R2=559, R3=505),\n",
              " Elemento(nombre='Emmanuel', fruta='cereza', R1=330, R2=37, R3=810),\n",
              " Elemento(nombre='Felipe', fruta='pera', R1=721, R2=1, R3=31)]"
            ]
          },
          "metadata": {},
          "execution_count": 48
        }
      ]
    },
    {
      "cell_type": "code",
      "metadata": {
        "colab": {
          "base_uri": "https://localhost:8080/"
        },
        "id": "lI6mK2CsVf_X",
        "outputId": "81781463-5691-4247-919a-e22363c31e8b"
      },
      "source": [
        "def orden(x):\n",
        "    return x.R1+ x.R2 + x.R3\n",
        "\n",
        "datos2= sorted( datos, key= orden, reverse= True)\n",
        "datos2[0]"
      ],
      "execution_count": null,
      "outputs": [
        {
          "output_type": "execute_result",
          "data": {
            "text/plain": [
              "Elemento(nombre='Beto', fruta='manzana', R1=965, R2=863, R3=320)"
            ]
          },
          "metadata": {},
          "execution_count": 50
        }
      ]
    },
    {
      "cell_type": "code",
      "metadata": {
        "id": "v4taLZE-VpBN"
      },
      "source": [
        ""
      ],
      "execution_count": null,
      "outputs": []
    }
  ]
}